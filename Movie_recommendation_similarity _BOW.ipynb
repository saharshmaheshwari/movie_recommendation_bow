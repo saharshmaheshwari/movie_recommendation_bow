{
 "cells": [
  {
   "cell_type": "markdown",
   "id": "2c72857f-2211-4b42-b3e4-091c38dbdae4",
   "metadata": {
    "jp-MarkdownHeadingCollapsed": true
   },
   "source": [
    "## Dependencies"
   ]
  },
  {
   "cell_type": "code",
   "execution_count": 1,
   "id": "2b4e4ceb-18ab-4211-97e2-c23f33f9ffb1",
   "metadata": {},
   "outputs": [],
   "source": [
    "import pandas as pd\n",
    "import numpy as np\n",
    "import matplotlib.pyplot as plt\n",
    "import seaborn as sns\n",
    "import ast"
   ]
  },
  {
   "cell_type": "code",
   "execution_count": 2,
   "id": "4dd890ee-5581-4b33-a6e9-4414cc0eb93b",
   "metadata": {},
   "outputs": [],
   "source": [
    "df1 = pd.read_csv('tmdb_5000_credits.csv')\n",
    "df2 = pd.read_csv('tmdb_5000_movies.csv')"
   ]
  },
  {
   "cell_type": "markdown",
   "id": "32574c5f-4f46-46a2-be4b-a9f436ebf6fc",
   "metadata": {
    "jp-MarkdownHeadingCollapsed": true
   },
   "source": [
    "## EDA"
   ]
  },
  {
   "cell_type": "code",
   "execution_count": 3,
   "id": "5f9cbf30-3fdc-4edf-86e6-f323cd5c8c53",
   "metadata": {},
   "outputs": [
    {
     "name": "stdout",
     "output_type": "stream",
     "text": [
      "<class 'pandas.core.frame.DataFrame'>\n",
      "RangeIndex: 4803 entries, 0 to 4802\n",
      "Data columns (total 4 columns):\n",
      " #   Column    Non-Null Count  Dtype \n",
      "---  ------    --------------  ----- \n",
      " 0   movie_id  4803 non-null   int64 \n",
      " 1   title     4803 non-null   object\n",
      " 2   cast      4803 non-null   object\n",
      " 3   crew      4803 non-null   object\n",
      "dtypes: int64(1), object(3)\n",
      "memory usage: 150.2+ KB\n"
     ]
    }
   ],
   "source": [
    "df1.info()"
   ]
  },
  {
   "cell_type": "code",
   "execution_count": 4,
   "id": "86f9ace8-5546-469f-90a1-4ae5813f18dd",
   "metadata": {},
   "outputs": [
    {
     "name": "stdout",
     "output_type": "stream",
     "text": [
      "<class 'pandas.core.frame.DataFrame'>\n",
      "RangeIndex: 4803 entries, 0 to 4802\n",
      "Data columns (total 20 columns):\n",
      " #   Column                Non-Null Count  Dtype  \n",
      "---  ------                --------------  -----  \n",
      " 0   budget                4803 non-null   int64  \n",
      " 1   genres                4803 non-null   object \n",
      " 2   homepage              1712 non-null   object \n",
      " 3   id                    4803 non-null   int64  \n",
      " 4   keywords              4803 non-null   object \n",
      " 5   original_language     4803 non-null   object \n",
      " 6   original_title        4803 non-null   object \n",
      " 7   overview              4800 non-null   object \n",
      " 8   popularity            4803 non-null   float64\n",
      " 9   production_companies  4803 non-null   object \n",
      " 10  production_countries  4803 non-null   object \n",
      " 11  release_date          4802 non-null   object \n",
      " 12  revenue               4803 non-null   int64  \n",
      " 13  runtime               4801 non-null   float64\n",
      " 14  spoken_languages      4803 non-null   object \n",
      " 15  status                4803 non-null   object \n",
      " 16  tagline               3959 non-null   object \n",
      " 17  title                 4803 non-null   object \n",
      " 18  vote_average          4803 non-null   float64\n",
      " 19  vote_count            4803 non-null   int64  \n",
      "dtypes: float64(3), int64(4), object(13)\n",
      "memory usage: 750.6+ KB\n"
     ]
    }
   ],
   "source": [
    "df2.info()"
   ]
  },
  {
   "cell_type": "code",
   "execution_count": 5,
   "id": "be8c47aa-c3e7-4d39-852e-ae20cbc73b8d",
   "metadata": {},
   "outputs": [
    {
     "data": {
      "text/html": [
       "<div>\n",
       "<style scoped>\n",
       "    .dataframe tbody tr th:only-of-type {\n",
       "        vertical-align: middle;\n",
       "    }\n",
       "\n",
       "    .dataframe tbody tr th {\n",
       "        vertical-align: top;\n",
       "    }\n",
       "\n",
       "    .dataframe thead th {\n",
       "        text-align: right;\n",
       "    }\n",
       "</style>\n",
       "<table border=\"1\" class=\"dataframe\">\n",
       "  <thead>\n",
       "    <tr style=\"text-align: right;\">\n",
       "      <th></th>\n",
       "      <th>budget</th>\n",
       "      <th>genres</th>\n",
       "      <th>homepage</th>\n",
       "      <th>id</th>\n",
       "      <th>keywords</th>\n",
       "      <th>original_language</th>\n",
       "      <th>original_title</th>\n",
       "      <th>overview</th>\n",
       "      <th>popularity</th>\n",
       "      <th>production_companies</th>\n",
       "      <th>production_countries</th>\n",
       "      <th>release_date</th>\n",
       "      <th>revenue</th>\n",
       "      <th>runtime</th>\n",
       "      <th>spoken_languages</th>\n",
       "      <th>status</th>\n",
       "      <th>tagline</th>\n",
       "      <th>title</th>\n",
       "      <th>vote_average</th>\n",
       "      <th>vote_count</th>\n",
       "    </tr>\n",
       "  </thead>\n",
       "  <tbody>\n",
       "    <tr>\n",
       "      <th>0</th>\n",
       "      <td>237000000</td>\n",
       "      <td>[{\"id\": 28, \"name\": \"Action\"}, {\"id\": 12, \"nam...</td>\n",
       "      <td>http://www.avatarmovie.com/</td>\n",
       "      <td>19995</td>\n",
       "      <td>[{\"id\": 1463, \"name\": \"culture clash\"}, {\"id\":...</td>\n",
       "      <td>en</td>\n",
       "      <td>Avatar</td>\n",
       "      <td>In the 22nd century, a paraplegic Marine is di...</td>\n",
       "      <td>150.437577</td>\n",
       "      <td>[{\"name\": \"Ingenious Film Partners\", \"id\": 289...</td>\n",
       "      <td>[{\"iso_3166_1\": \"US\", \"name\": \"United States o...</td>\n",
       "      <td>2009-12-10</td>\n",
       "      <td>2787965087</td>\n",
       "      <td>162.0</td>\n",
       "      <td>[{\"iso_639_1\": \"en\", \"name\": \"English\"}, {\"iso...</td>\n",
       "      <td>Released</td>\n",
       "      <td>Enter the World of Pandora.</td>\n",
       "      <td>Avatar</td>\n",
       "      <td>7.2</td>\n",
       "      <td>11800</td>\n",
       "    </tr>\n",
       "    <tr>\n",
       "      <th>1</th>\n",
       "      <td>300000000</td>\n",
       "      <td>[{\"id\": 12, \"name\": \"Adventure\"}, {\"id\": 14, \"...</td>\n",
       "      <td>http://disney.go.com/disneypictures/pirates/</td>\n",
       "      <td>285</td>\n",
       "      <td>[{\"id\": 270, \"name\": \"ocean\"}, {\"id\": 726, \"na...</td>\n",
       "      <td>en</td>\n",
       "      <td>Pirates of the Caribbean: At World's End</td>\n",
       "      <td>Captain Barbossa, long believed to be dead, ha...</td>\n",
       "      <td>139.082615</td>\n",
       "      <td>[{\"name\": \"Walt Disney Pictures\", \"id\": 2}, {\"...</td>\n",
       "      <td>[{\"iso_3166_1\": \"US\", \"name\": \"United States o...</td>\n",
       "      <td>2007-05-19</td>\n",
       "      <td>961000000</td>\n",
       "      <td>169.0</td>\n",
       "      <td>[{\"iso_639_1\": \"en\", \"name\": \"English\"}]</td>\n",
       "      <td>Released</td>\n",
       "      <td>At the end of the world, the adventure begins.</td>\n",
       "      <td>Pirates of the Caribbean: At World's End</td>\n",
       "      <td>6.9</td>\n",
       "      <td>4500</td>\n",
       "    </tr>\n",
       "    <tr>\n",
       "      <th>2</th>\n",
       "      <td>245000000</td>\n",
       "      <td>[{\"id\": 28, \"name\": \"Action\"}, {\"id\": 12, \"nam...</td>\n",
       "      <td>http://www.sonypictures.com/movies/spectre/</td>\n",
       "      <td>206647</td>\n",
       "      <td>[{\"id\": 470, \"name\": \"spy\"}, {\"id\": 818, \"name...</td>\n",
       "      <td>en</td>\n",
       "      <td>Spectre</td>\n",
       "      <td>A cryptic message from Bond’s past sends him o...</td>\n",
       "      <td>107.376788</td>\n",
       "      <td>[{\"name\": \"Columbia Pictures\", \"id\": 5}, {\"nam...</td>\n",
       "      <td>[{\"iso_3166_1\": \"GB\", \"name\": \"United Kingdom\"...</td>\n",
       "      <td>2015-10-26</td>\n",
       "      <td>880674609</td>\n",
       "      <td>148.0</td>\n",
       "      <td>[{\"iso_639_1\": \"fr\", \"name\": \"Fran\\u00e7ais\"},...</td>\n",
       "      <td>Released</td>\n",
       "      <td>A Plan No One Escapes</td>\n",
       "      <td>Spectre</td>\n",
       "      <td>6.3</td>\n",
       "      <td>4466</td>\n",
       "    </tr>\n",
       "  </tbody>\n",
       "</table>\n",
       "</div>"
      ],
      "text/plain": [
       "      budget                                             genres  \\\n",
       "0  237000000  [{\"id\": 28, \"name\": \"Action\"}, {\"id\": 12, \"nam...   \n",
       "1  300000000  [{\"id\": 12, \"name\": \"Adventure\"}, {\"id\": 14, \"...   \n",
       "2  245000000  [{\"id\": 28, \"name\": \"Action\"}, {\"id\": 12, \"nam...   \n",
       "\n",
       "                                       homepage      id  \\\n",
       "0                   http://www.avatarmovie.com/   19995   \n",
       "1  http://disney.go.com/disneypictures/pirates/     285   \n",
       "2   http://www.sonypictures.com/movies/spectre/  206647   \n",
       "\n",
       "                                            keywords original_language  \\\n",
       "0  [{\"id\": 1463, \"name\": \"culture clash\"}, {\"id\":...                en   \n",
       "1  [{\"id\": 270, \"name\": \"ocean\"}, {\"id\": 726, \"na...                en   \n",
       "2  [{\"id\": 470, \"name\": \"spy\"}, {\"id\": 818, \"name...                en   \n",
       "\n",
       "                             original_title  \\\n",
       "0                                    Avatar   \n",
       "1  Pirates of the Caribbean: At World's End   \n",
       "2                                   Spectre   \n",
       "\n",
       "                                            overview  popularity  \\\n",
       "0  In the 22nd century, a paraplegic Marine is di...  150.437577   \n",
       "1  Captain Barbossa, long believed to be dead, ha...  139.082615   \n",
       "2  A cryptic message from Bond’s past sends him o...  107.376788   \n",
       "\n",
       "                                production_companies  \\\n",
       "0  [{\"name\": \"Ingenious Film Partners\", \"id\": 289...   \n",
       "1  [{\"name\": \"Walt Disney Pictures\", \"id\": 2}, {\"...   \n",
       "2  [{\"name\": \"Columbia Pictures\", \"id\": 5}, {\"nam...   \n",
       "\n",
       "                                production_countries release_date     revenue  \\\n",
       "0  [{\"iso_3166_1\": \"US\", \"name\": \"United States o...   2009-12-10  2787965087   \n",
       "1  [{\"iso_3166_1\": \"US\", \"name\": \"United States o...   2007-05-19   961000000   \n",
       "2  [{\"iso_3166_1\": \"GB\", \"name\": \"United Kingdom\"...   2015-10-26   880674609   \n",
       "\n",
       "   runtime                                   spoken_languages    status  \\\n",
       "0    162.0  [{\"iso_639_1\": \"en\", \"name\": \"English\"}, {\"iso...  Released   \n",
       "1    169.0           [{\"iso_639_1\": \"en\", \"name\": \"English\"}]  Released   \n",
       "2    148.0  [{\"iso_639_1\": \"fr\", \"name\": \"Fran\\u00e7ais\"},...  Released   \n",
       "\n",
       "                                          tagline  \\\n",
       "0                     Enter the World of Pandora.   \n",
       "1  At the end of the world, the adventure begins.   \n",
       "2                           A Plan No One Escapes   \n",
       "\n",
       "                                      title  vote_average  vote_count  \n",
       "0                                    Avatar           7.2       11800  \n",
       "1  Pirates of the Caribbean: At World's End           6.9        4500  \n",
       "2                                   Spectre           6.3        4466  "
      ]
     },
     "execution_count": 5,
     "metadata": {},
     "output_type": "execute_result"
    }
   ],
   "source": [
    "df2.head(3)"
   ]
  },
  {
   "cell_type": "code",
   "execution_count": 6,
   "id": "8f0d12d6-0e63-45a3-a8b6-5fd2a3bd2d73",
   "metadata": {},
   "outputs": [
    {
     "data": {
      "text/html": [
       "<div>\n",
       "<style scoped>\n",
       "    .dataframe tbody tr th:only-of-type {\n",
       "        vertical-align: middle;\n",
       "    }\n",
       "\n",
       "    .dataframe tbody tr th {\n",
       "        vertical-align: top;\n",
       "    }\n",
       "\n",
       "    .dataframe thead th {\n",
       "        text-align: right;\n",
       "    }\n",
       "</style>\n",
       "<table border=\"1\" class=\"dataframe\">\n",
       "  <thead>\n",
       "    <tr style=\"text-align: right;\">\n",
       "      <th></th>\n",
       "      <th>movie_id</th>\n",
       "      <th>title</th>\n",
       "      <th>cast</th>\n",
       "      <th>crew</th>\n",
       "    </tr>\n",
       "  </thead>\n",
       "  <tbody>\n",
       "    <tr>\n",
       "      <th>0</th>\n",
       "      <td>19995</td>\n",
       "      <td>Avatar</td>\n",
       "      <td>[{\"cast_id\": 242, \"character\": \"Jake Sully\", \"...</td>\n",
       "      <td>[{\"credit_id\": \"52fe48009251416c750aca23\", \"de...</td>\n",
       "    </tr>\n",
       "    <tr>\n",
       "      <th>1</th>\n",
       "      <td>285</td>\n",
       "      <td>Pirates of the Caribbean: At World's End</td>\n",
       "      <td>[{\"cast_id\": 4, \"character\": \"Captain Jack Spa...</td>\n",
       "      <td>[{\"credit_id\": \"52fe4232c3a36847f800b579\", \"de...</td>\n",
       "    </tr>\n",
       "    <tr>\n",
       "      <th>2</th>\n",
       "      <td>206647</td>\n",
       "      <td>Spectre</td>\n",
       "      <td>[{\"cast_id\": 1, \"character\": \"James Bond\", \"cr...</td>\n",
       "      <td>[{\"credit_id\": \"54805967c3a36829b5002c41\", \"de...</td>\n",
       "    </tr>\n",
       "  </tbody>\n",
       "</table>\n",
       "</div>"
      ],
      "text/plain": [
       "   movie_id                                     title  \\\n",
       "0     19995                                    Avatar   \n",
       "1       285  Pirates of the Caribbean: At World's End   \n",
       "2    206647                                   Spectre   \n",
       "\n",
       "                                                cast  \\\n",
       "0  [{\"cast_id\": 242, \"character\": \"Jake Sully\", \"...   \n",
       "1  [{\"cast_id\": 4, \"character\": \"Captain Jack Spa...   \n",
       "2  [{\"cast_id\": 1, \"character\": \"James Bond\", \"cr...   \n",
       "\n",
       "                                                crew  \n",
       "0  [{\"credit_id\": \"52fe48009251416c750aca23\", \"de...  \n",
       "1  [{\"credit_id\": \"52fe4232c3a36847f800b579\", \"de...  \n",
       "2  [{\"credit_id\": \"54805967c3a36829b5002c41\", \"de...  "
      ]
     },
     "execution_count": 6,
     "metadata": {},
     "output_type": "execute_result"
    }
   ],
   "source": [
    "df1.head(3)"
   ]
  },
  {
   "cell_type": "code",
   "execution_count": 7,
   "id": "a65ed632-7ab4-4c19-a99d-16e2519a84ce",
   "metadata": {},
   "outputs": [],
   "source": [
    "data = pd.merge(df1, df2, left_on = 'movie_id', right_on = 'id' )"
   ]
  },
  {
   "cell_type": "code",
   "execution_count": 8,
   "id": "1b1e92f1-e4e8-4621-88f3-a230d6715cdd",
   "metadata": {},
   "outputs": [
    {
     "data": {
      "text/html": [
       "<div>\n",
       "<style scoped>\n",
       "    .dataframe tbody tr th:only-of-type {\n",
       "        vertical-align: middle;\n",
       "    }\n",
       "\n",
       "    .dataframe tbody tr th {\n",
       "        vertical-align: top;\n",
       "    }\n",
       "\n",
       "    .dataframe thead th {\n",
       "        text-align: right;\n",
       "    }\n",
       "</style>\n",
       "<table border=\"1\" class=\"dataframe\">\n",
       "  <thead>\n",
       "    <tr style=\"text-align: right;\">\n",
       "      <th></th>\n",
       "      <th>movie_id</th>\n",
       "      <th>title_x</th>\n",
       "      <th>cast</th>\n",
       "      <th>crew</th>\n",
       "      <th>budget</th>\n",
       "      <th>genres</th>\n",
       "      <th>homepage</th>\n",
       "      <th>id</th>\n",
       "      <th>keywords</th>\n",
       "      <th>original_language</th>\n",
       "      <th>...</th>\n",
       "      <th>production_countries</th>\n",
       "      <th>release_date</th>\n",
       "      <th>revenue</th>\n",
       "      <th>runtime</th>\n",
       "      <th>spoken_languages</th>\n",
       "      <th>status</th>\n",
       "      <th>tagline</th>\n",
       "      <th>title_y</th>\n",
       "      <th>vote_average</th>\n",
       "      <th>vote_count</th>\n",
       "    </tr>\n",
       "  </thead>\n",
       "  <tbody>\n",
       "    <tr>\n",
       "      <th>0</th>\n",
       "      <td>19995</td>\n",
       "      <td>Avatar</td>\n",
       "      <td>[{\"cast_id\": 242, \"character\": \"Jake Sully\", \"...</td>\n",
       "      <td>[{\"credit_id\": \"52fe48009251416c750aca23\", \"de...</td>\n",
       "      <td>237000000</td>\n",
       "      <td>[{\"id\": 28, \"name\": \"Action\"}, {\"id\": 12, \"nam...</td>\n",
       "      <td>http://www.avatarmovie.com/</td>\n",
       "      <td>19995</td>\n",
       "      <td>[{\"id\": 1463, \"name\": \"culture clash\"}, {\"id\":...</td>\n",
       "      <td>en</td>\n",
       "      <td>...</td>\n",
       "      <td>[{\"iso_3166_1\": \"US\", \"name\": \"United States o...</td>\n",
       "      <td>2009-12-10</td>\n",
       "      <td>2787965087</td>\n",
       "      <td>162.0</td>\n",
       "      <td>[{\"iso_639_1\": \"en\", \"name\": \"English\"}, {\"iso...</td>\n",
       "      <td>Released</td>\n",
       "      <td>Enter the World of Pandora.</td>\n",
       "      <td>Avatar</td>\n",
       "      <td>7.2</td>\n",
       "      <td>11800</td>\n",
       "    </tr>\n",
       "    <tr>\n",
       "      <th>1</th>\n",
       "      <td>285</td>\n",
       "      <td>Pirates of the Caribbean: At World's End</td>\n",
       "      <td>[{\"cast_id\": 4, \"character\": \"Captain Jack Spa...</td>\n",
       "      <td>[{\"credit_id\": \"52fe4232c3a36847f800b579\", \"de...</td>\n",
       "      <td>300000000</td>\n",
       "      <td>[{\"id\": 12, \"name\": \"Adventure\"}, {\"id\": 14, \"...</td>\n",
       "      <td>http://disney.go.com/disneypictures/pirates/</td>\n",
       "      <td>285</td>\n",
       "      <td>[{\"id\": 270, \"name\": \"ocean\"}, {\"id\": 726, \"na...</td>\n",
       "      <td>en</td>\n",
       "      <td>...</td>\n",
       "      <td>[{\"iso_3166_1\": \"US\", \"name\": \"United States o...</td>\n",
       "      <td>2007-05-19</td>\n",
       "      <td>961000000</td>\n",
       "      <td>169.0</td>\n",
       "      <td>[{\"iso_639_1\": \"en\", \"name\": \"English\"}]</td>\n",
       "      <td>Released</td>\n",
       "      <td>At the end of the world, the adventure begins.</td>\n",
       "      <td>Pirates of the Caribbean: At World's End</td>\n",
       "      <td>6.9</td>\n",
       "      <td>4500</td>\n",
       "    </tr>\n",
       "    <tr>\n",
       "      <th>2</th>\n",
       "      <td>206647</td>\n",
       "      <td>Spectre</td>\n",
       "      <td>[{\"cast_id\": 1, \"character\": \"James Bond\", \"cr...</td>\n",
       "      <td>[{\"credit_id\": \"54805967c3a36829b5002c41\", \"de...</td>\n",
       "      <td>245000000</td>\n",
       "      <td>[{\"id\": 28, \"name\": \"Action\"}, {\"id\": 12, \"nam...</td>\n",
       "      <td>http://www.sonypictures.com/movies/spectre/</td>\n",
       "      <td>206647</td>\n",
       "      <td>[{\"id\": 470, \"name\": \"spy\"}, {\"id\": 818, \"name...</td>\n",
       "      <td>en</td>\n",
       "      <td>...</td>\n",
       "      <td>[{\"iso_3166_1\": \"GB\", \"name\": \"United Kingdom\"...</td>\n",
       "      <td>2015-10-26</td>\n",
       "      <td>880674609</td>\n",
       "      <td>148.0</td>\n",
       "      <td>[{\"iso_639_1\": \"fr\", \"name\": \"Fran\\u00e7ais\"},...</td>\n",
       "      <td>Released</td>\n",
       "      <td>A Plan No One Escapes</td>\n",
       "      <td>Spectre</td>\n",
       "      <td>6.3</td>\n",
       "      <td>4466</td>\n",
       "    </tr>\n",
       "  </tbody>\n",
       "</table>\n",
       "<p>3 rows × 24 columns</p>\n",
       "</div>"
      ],
      "text/plain": [
       "   movie_id                                   title_x  \\\n",
       "0     19995                                    Avatar   \n",
       "1       285  Pirates of the Caribbean: At World's End   \n",
       "2    206647                                   Spectre   \n",
       "\n",
       "                                                cast  \\\n",
       "0  [{\"cast_id\": 242, \"character\": \"Jake Sully\", \"...   \n",
       "1  [{\"cast_id\": 4, \"character\": \"Captain Jack Spa...   \n",
       "2  [{\"cast_id\": 1, \"character\": \"James Bond\", \"cr...   \n",
       "\n",
       "                                                crew     budget  \\\n",
       "0  [{\"credit_id\": \"52fe48009251416c750aca23\", \"de...  237000000   \n",
       "1  [{\"credit_id\": \"52fe4232c3a36847f800b579\", \"de...  300000000   \n",
       "2  [{\"credit_id\": \"54805967c3a36829b5002c41\", \"de...  245000000   \n",
       "\n",
       "                                              genres  \\\n",
       "0  [{\"id\": 28, \"name\": \"Action\"}, {\"id\": 12, \"nam...   \n",
       "1  [{\"id\": 12, \"name\": \"Adventure\"}, {\"id\": 14, \"...   \n",
       "2  [{\"id\": 28, \"name\": \"Action\"}, {\"id\": 12, \"nam...   \n",
       "\n",
       "                                       homepage      id  \\\n",
       "0                   http://www.avatarmovie.com/   19995   \n",
       "1  http://disney.go.com/disneypictures/pirates/     285   \n",
       "2   http://www.sonypictures.com/movies/spectre/  206647   \n",
       "\n",
       "                                            keywords original_language  ...  \\\n",
       "0  [{\"id\": 1463, \"name\": \"culture clash\"}, {\"id\":...                en  ...   \n",
       "1  [{\"id\": 270, \"name\": \"ocean\"}, {\"id\": 726, \"na...                en  ...   \n",
       "2  [{\"id\": 470, \"name\": \"spy\"}, {\"id\": 818, \"name...                en  ...   \n",
       "\n",
       "                                production_countries release_date     revenue  \\\n",
       "0  [{\"iso_3166_1\": \"US\", \"name\": \"United States o...   2009-12-10  2787965087   \n",
       "1  [{\"iso_3166_1\": \"US\", \"name\": \"United States o...   2007-05-19   961000000   \n",
       "2  [{\"iso_3166_1\": \"GB\", \"name\": \"United Kingdom\"...   2015-10-26   880674609   \n",
       "\n",
       "  runtime                                   spoken_languages    status  \\\n",
       "0   162.0  [{\"iso_639_1\": \"en\", \"name\": \"English\"}, {\"iso...  Released   \n",
       "1   169.0           [{\"iso_639_1\": \"en\", \"name\": \"English\"}]  Released   \n",
       "2   148.0  [{\"iso_639_1\": \"fr\", \"name\": \"Fran\\u00e7ais\"},...  Released   \n",
       "\n",
       "                                          tagline  \\\n",
       "0                     Enter the World of Pandora.   \n",
       "1  At the end of the world, the adventure begins.   \n",
       "2                           A Plan No One Escapes   \n",
       "\n",
       "                                    title_y vote_average vote_count  \n",
       "0                                    Avatar          7.2      11800  \n",
       "1  Pirates of the Caribbean: At World's End          6.9       4500  \n",
       "2                                   Spectre          6.3       4466  \n",
       "\n",
       "[3 rows x 24 columns]"
      ]
     },
     "execution_count": 8,
     "metadata": {},
     "output_type": "execute_result"
    }
   ],
   "source": [
    "data.head(3)"
   ]
  },
  {
   "cell_type": "code",
   "execution_count": 9,
   "id": "37daff10-1405-46a9-8996-88f2669ffedf",
   "metadata": {},
   "outputs": [
    {
     "data": {
      "text/plain": [
       "Index(['movie_id', 'title_x', 'cast', 'crew', 'budget', 'genres', 'homepage',\n",
       "       'id', 'keywords', 'original_language', 'original_title', 'overview',\n",
       "       'popularity', 'production_companies', 'production_countries',\n",
       "       'release_date', 'revenue', 'runtime', 'spoken_languages', 'status',\n",
       "       'tagline', 'title_y', 'vote_average', 'vote_count'],\n",
       "      dtype='object')"
      ]
     },
     "execution_count": 9,
     "metadata": {},
     "output_type": "execute_result"
    }
   ],
   "source": [
    "data.columns"
   ]
  },
  {
   "cell_type": "markdown",
   "id": "31d344d0-f4c5-4ff4-8c33-29e85eb97515",
   "metadata": {},
   "source": [
    "cols_to_drop = ['budget', 'homepage','id', 'original_language', 'original_title',\n",
    "       'popularity', 'production_companies', 'production_countries',\n",
    "       'release_date', 'revenue', 'runtime', 'spoken_languages', 'status',\n",
    "       'tagline', 'title_y', 'vote_average', 'vote_count']"
   ]
  },
  {
   "cell_type": "code",
   "execution_count": 10,
   "id": "125924b6-e376-46bc-a274-393c38442861",
   "metadata": {},
   "outputs": [
    {
     "data": {
      "text/plain": [
       "homepage        3091\n",
       "overview           3\n",
       "release_date       1\n",
       "runtime            2\n",
       "tagline          844\n",
       "dtype: int64"
      ]
     },
     "execution_count": 10,
     "metadata": {},
     "output_type": "execute_result"
    }
   ],
   "source": [
    "data.isnull().sum()[data.isnull().sum()>0]"
   ]
  },
  {
   "cell_type": "code",
   "execution_count": 11,
   "id": "2b43aa3e-62b5-43d8-8a4b-8ebc41984d50",
   "metadata": {},
   "outputs": [
    {
     "data": {
      "text/plain": [
       "'[{\"id\": 1463, \"name\": \"culture clash\"}, {\"id\": 2964, \"name\": \"future\"}, {\"id\": 3386, \"name\": \"space war\"}, {\"id\": 3388, \"name\": \"space colony\"}, {\"id\": 3679, \"name\": \"society\"}, {\"id\": 3801, \"name\": \"space travel\"}, {\"id\": 9685, \"name\": \"futuristic\"}, {\"id\": 9840, \"name\": \"romance\"}, {\"id\": 9882, \"name\": \"space\"}, {\"id\": 9951, \"name\": \"alien\"}, {\"id\": 10148, \"name\": \"tribe\"}, {\"id\": 10158, \"name\": \"alien planet\"}, {\"id\": 10987, \"name\": \"cgi\"}, {\"id\": 11399, \"name\": \"marine\"}, {\"id\": 13065, \"name\": \"soldier\"}, {\"id\": 14643, \"name\": \"battle\"}, {\"id\": 14720, \"name\": \"love affair\"}, {\"id\": 165431, \"name\": \"anti war\"}, {\"id\": 193554, \"name\": \"power relations\"}, {\"id\": 206690, \"name\": \"mind and soul\"}, {\"id\": 209714, \"name\": \"3d\"}]'"
      ]
     },
     "execution_count": 11,
     "metadata": {},
     "output_type": "execute_result"
    }
   ],
   "source": [
    "data['keywords'][0]"
   ]
  },
  {
   "cell_type": "code",
   "execution_count": 12,
   "id": "3a6f7593-7202-4463-8545-8581722d3e57",
   "metadata": {},
   "outputs": [
    {
     "data": {
      "text/plain": [
       "original_language\n",
       "en    0.937955\n",
       "fr    0.014574\n",
       "es    0.006663\n",
       "zh    0.005621\n",
       "de    0.005621\n",
       "hi    0.003956\n",
       "ja    0.003331\n",
       "it    0.002915\n",
       "cn    0.002498\n",
       "ru    0.002290\n",
       "ko    0.002290\n",
       "pt    0.001874\n",
       "da    0.001457\n",
       "sv    0.001041\n",
       "nl    0.000833\n",
       "fa    0.000833\n",
       "th    0.000625\n",
       "he    0.000625\n",
       "ta    0.000416\n",
       "cs    0.000416\n",
       "ro    0.000416\n",
       "id    0.000416\n",
       "ar    0.000416\n",
       "vi    0.000208\n",
       "sl    0.000208\n",
       "ps    0.000208\n",
       "no    0.000208\n",
       "ky    0.000208\n",
       "hu    0.000208\n",
       "pl    0.000208\n",
       "af    0.000208\n",
       "nb    0.000208\n",
       "tr    0.000208\n",
       "is    0.000208\n",
       "xx    0.000208\n",
       "te    0.000208\n",
       "el    0.000208\n",
       "Name: proportion, dtype: float64"
      ]
     },
     "execution_count": 12,
     "metadata": {},
     "output_type": "execute_result"
    }
   ],
   "source": [
    "data.original_language.value_counts(normalize = True)"
   ]
  },
  {
   "cell_type": "code",
   "execution_count": 13,
   "id": "eccb6f8c-4c6c-4dba-83ec-6c14bba1452e",
   "metadata": {},
   "outputs": [
    {
     "data": {
      "text/html": [
       "<div>\n",
       "<style scoped>\n",
       "    .dataframe tbody tr th:only-of-type {\n",
       "        vertical-align: middle;\n",
       "    }\n",
       "\n",
       "    .dataframe tbody tr th {\n",
       "        vertical-align: top;\n",
       "    }\n",
       "\n",
       "    .dataframe thead th {\n",
       "        text-align: right;\n",
       "    }\n",
       "</style>\n",
       "<table border=\"1\" class=\"dataframe\">\n",
       "  <thead>\n",
       "    <tr style=\"text-align: right;\">\n",
       "      <th></th>\n",
       "      <th>title_x</th>\n",
       "      <th>original_title</th>\n",
       "    </tr>\n",
       "  </thead>\n",
       "  <tbody>\n",
       "    <tr>\n",
       "      <th>97</th>\n",
       "      <td>Shin Godzilla</td>\n",
       "      <td>シン・ゴジラ</td>\n",
       "    </tr>\n",
       "    <tr>\n",
       "      <th>215</th>\n",
       "      <td>Fantastic 4: Rise of the Silver Surfer</td>\n",
       "      <td>4: Rise of the Silver Surfer</td>\n",
       "    </tr>\n",
       "    <tr>\n",
       "      <th>235</th>\n",
       "      <td>Asterix at the Olympic Games</td>\n",
       "      <td>Astérix aux Jeux Olympiques</td>\n",
       "    </tr>\n",
       "    <tr>\n",
       "      <th>317</th>\n",
       "      <td>The Flowers of War</td>\n",
       "      <td>金陵十三釵</td>\n",
       "    </tr>\n",
       "    <tr>\n",
       "      <th>474</th>\n",
       "      <td>Evolution</td>\n",
       "      <td>Évolution</td>\n",
       "    </tr>\n",
       "    <tr>\n",
       "      <th>...</th>\n",
       "      <td>...</td>\n",
       "      <td>...</td>\n",
       "    </tr>\n",
       "    <tr>\n",
       "      <th>4699</th>\n",
       "      <td>The World Is Mine</td>\n",
       "      <td>Lumea e a mea</td>\n",
       "    </tr>\n",
       "    <tr>\n",
       "      <th>4719</th>\n",
       "      <td>The Married Woman</td>\n",
       "      <td>Une femme mariée: Suite de fragments d'un film...</td>\n",
       "    </tr>\n",
       "    <tr>\n",
       "      <th>4751</th>\n",
       "      <td>Gabriela</td>\n",
       "      <td>Gabriela, Cravo e Canela</td>\n",
       "    </tr>\n",
       "    <tr>\n",
       "      <th>4790</th>\n",
       "      <td>The Circle</td>\n",
       "      <td>دایره</td>\n",
       "    </tr>\n",
       "    <tr>\n",
       "      <th>4792</th>\n",
       "      <td>Cure</td>\n",
       "      <td>キュア</td>\n",
       "    </tr>\n",
       "  </tbody>\n",
       "</table>\n",
       "<p>261 rows × 2 columns</p>\n",
       "</div>"
      ],
      "text/plain": [
       "                                     title_x  \\\n",
       "97                             Shin Godzilla   \n",
       "215   Fantastic 4: Rise of the Silver Surfer   \n",
       "235             Asterix at the Olympic Games   \n",
       "317                       The Flowers of War   \n",
       "474                                Evolution   \n",
       "...                                      ...   \n",
       "4699                       The World Is Mine   \n",
       "4719                       The Married Woman   \n",
       "4751                                Gabriela   \n",
       "4790                              The Circle   \n",
       "4792                                    Cure   \n",
       "\n",
       "                                         original_title  \n",
       "97                                               シン・ゴジラ  \n",
       "215                        4: Rise of the Silver Surfer  \n",
       "235                         Astérix aux Jeux Olympiques  \n",
       "317                                               金陵十三釵  \n",
       "474                                           Évolution  \n",
       "...                                                 ...  \n",
       "4699                                      Lumea e a mea  \n",
       "4719  Une femme mariée: Suite de fragments d'un film...  \n",
       "4751                           Gabriela, Cravo e Canela  \n",
       "4790                                              دایره  \n",
       "4792                                                キュア  \n",
       "\n",
       "[261 rows x 2 columns]"
      ]
     },
     "execution_count": 13,
     "metadata": {},
     "output_type": "execute_result"
    }
   ],
   "source": [
    "data.loc[data['title_x']!=data['original_title']][['title_x','original_title']]"
   ]
  },
  {
   "cell_type": "markdown",
   "id": "46b8b935-f211-4cc6-ab21-dc7e7b753f7e",
   "metadata": {},
   "source": [
    "* we will drop orignal title"
   ]
  },
  {
   "cell_type": "code",
   "execution_count": 14,
   "id": "8cfb0ec3-c33d-4300-80e4-22a0b0120cb3",
   "metadata": {},
   "outputs": [
    {
     "data": {
      "text/plain": [
       "0       In the 22nd century, a paraplegic Marine is di...\n",
       "1       Captain Barbossa, long believed to be dead, ha...\n",
       "2       A cryptic message from Bond’s past sends him o...\n",
       "3       Following the death of District Attorney Harve...\n",
       "4       John Carter is a war-weary, former military ca...\n",
       "                              ...                        \n",
       "4798    El Mariachi just wants to play his guitar and ...\n",
       "4799    A newlywed couple's honeymoon is upended by th...\n",
       "4800    \"Signed, Sealed, Delivered\" introduces a dedic...\n",
       "4801    When ambitious New York attorney Sam is sent t...\n",
       "4802    Ever since the second grade when he first saw ...\n",
       "Name: overview, Length: 4803, dtype: object"
      ]
     },
     "execution_count": 14,
     "metadata": {},
     "output_type": "execute_result"
    }
   ],
   "source": [
    "data.overview"
   ]
  },
  {
   "cell_type": "code",
   "execution_count": 15,
   "id": "74a1cc17-0e66-4d17-a7f0-cb407ee9acc9",
   "metadata": {
    "scrolled": true
   },
   "outputs": [
    {
     "name": "stderr",
     "output_type": "stream",
     "text": [
      "/opt/anaconda3/lib/python3.11/site-packages/seaborn/_oldcore.py:1119: FutureWarning: use_inf_as_na option is deprecated and will be removed in a future version. Convert inf values to NaN before operating instead.\n",
      "  with pd.option_context('mode.use_inf_as_na', True):\n"
     ]
    },
    {
     "data": {
      "text/plain": [
       "<Axes: xlabel='popularity', ylabel='Count'>"
      ]
     },
     "execution_count": 15,
     "metadata": {},
     "output_type": "execute_result"
    },
    {
     "data": {
      "image/png": "[encoded data removed]",
      "text/plain": [
       "<Figure size 640x480 with 1 Axes>"
      ]
     },
     "metadata": {},
     "output_type": "display_data"
    }
   ],
   "source": [
    "sns.histplot(data.popularity)"
   ]
  },
  {
   "cell_type": "markdown",
   "id": "930c6988-7695-4409-8e14-f26b0ede0007",
   "metadata": {},
   "source": [
    "* will drop the popularity for base modle, can be used later to improve on it "
   ]
  },
  {
   "cell_type": "code",
   "execution_count": 16,
   "id": "c1c33276-d47b-4493-bfb5-0e79eb0d48d5",
   "metadata": {},
   "outputs": [
    {
     "data": {
      "text/plain": [
       "'[{\"name\": \"Ingenious Film Partners\", \"id\": 289}, {\"name\": \"Twentieth Century Fox Film Corporation\", \"id\": 306}, {\"name\": \"Dune Entertainment\", \"id\": 444}, {\"name\": \"Lightstorm Entertainment\", \"id\": 574}]'"
      ]
     },
     "execution_count": 16,
     "metadata": {},
     "output_type": "execute_result"
    }
   ],
   "source": [
    "data.production_companies[0]"
   ]
  },
  {
   "cell_type": "code",
   "execution_count": 17,
   "id": "30aca1ff-96bd-4580-84c9-2d1403fddc44",
   "metadata": {},
   "outputs": [
    {
     "name": "stderr",
     "output_type": "stream",
     "text": [
      "/opt/anaconda3/lib/python3.11/site-packages/seaborn/_oldcore.py:1119: FutureWarning: use_inf_as_na option is deprecated and will be removed in a future version. Convert inf values to NaN before operating instead.\n",
      "  with pd.option_context('mode.use_inf_as_na', True):\n"
     ]
    },
    {
     "data": {
      "text/plain": [
       "<Axes: xlabel='runtime', ylabel='Count'>"
      ]
     },
     "execution_count": 17,
     "metadata": {},
     "output_type": "execute_result"
    },
    {
     "data": {
      "image/png": "[encoded data removed]",
      "text/plain": [
       "<Figure size 640x480 with 1 Axes>"
      ]
     },
     "metadata": {},
     "output_type": "display_data"
    }
   ],
   "source": [
    "sns.histplot(data.runtime)"
   ]
  },
  {
   "cell_type": "code",
   "execution_count": 18,
   "id": "b732d1f5-a322-4347-be6e-bed5d3711b50",
   "metadata": {},
   "outputs": [
    {
     "data": {
      "text/plain": [
       "0       [{\"iso_639_1\": \"en\", \"name\": \"English\"}, {\"iso...\n",
       "1                [{\"iso_639_1\": \"en\", \"name\": \"English\"}]\n",
       "2       [{\"iso_639_1\": \"fr\", \"name\": \"Fran\\u00e7ais\"},...\n",
       "3                [{\"iso_639_1\": \"en\", \"name\": \"English\"}]\n",
       "4                [{\"iso_639_1\": \"en\", \"name\": \"English\"}]\n",
       "                              ...                        \n",
       "4798        [{\"iso_639_1\": \"es\", \"name\": \"Espa\\u00f1ol\"}]\n",
       "4799                                                   []\n",
       "4800             [{\"iso_639_1\": \"en\", \"name\": \"English\"}]\n",
       "4801             [{\"iso_639_1\": \"en\", \"name\": \"English\"}]\n",
       "4802             [{\"iso_639_1\": \"en\", \"name\": \"English\"}]\n",
       "Name: spoken_languages, Length: 4803, dtype: object"
      ]
     },
     "execution_count": 18,
     "metadata": {},
     "output_type": "execute_result"
    }
   ],
   "source": [
    "data.spoken_languages"
   ]
  },
  {
   "cell_type": "code",
   "execution_count": 19,
   "id": "4daa49fa-9aaf-49a2-a03e-7cc194f0fb61",
   "metadata": {},
   "outputs": [
    {
     "data": {
      "text/plain": [
       "status\n",
       "Released           0.998334\n",
       "Rumored            0.001041\n",
       "Post Production    0.000625\n",
       "Name: proportion, dtype: float64"
      ]
     },
     "execution_count": 19,
     "metadata": {},
     "output_type": "execute_result"
    }
   ],
   "source": [
    "data.status.value_counts(normalize=True)"
   ]
  },
  {
   "cell_type": "code",
   "execution_count": 20,
   "id": "d544d304-00ef-431f-abca-3e4a0f12ca35",
   "metadata": {},
   "outputs": [
    {
     "data": {
      "text/plain": [
       "0                             Enter the World of Pandora.\n",
       "1          At the end of the world, the adventure begins.\n",
       "2                                   A Plan No One Escapes\n",
       "3                                         The Legend Ends\n",
       "4                    Lost in our world, found in another.\n",
       "                              ...                        \n",
       "4798    He didn't come looking for trouble, but troubl...\n",
       "4799    A newlywed couple's honeymoon is upended by th...\n",
       "4800                                                  NaN\n",
       "4801                             A New Yorker in Shanghai\n",
       "4802                                                  NaN\n",
       "Name: tagline, Length: 4803, dtype: object"
      ]
     },
     "execution_count": 20,
     "metadata": {},
     "output_type": "execute_result"
    }
   ],
   "source": [
    "data.tagline"
   ]
  },
  {
   "cell_type": "code",
   "execution_count": 21,
   "id": "65aa3c73-cd6b-4837-abe8-b15229c1fe90",
   "metadata": {},
   "outputs": [
    {
     "name": "stderr",
     "output_type": "stream",
     "text": [
      "/opt/anaconda3/lib/python3.11/site-packages/seaborn/_oldcore.py:1119: FutureWarning: use_inf_as_na option is deprecated and will be removed in a future version. Convert inf values to NaN before operating instead.\n",
      "  with pd.option_context('mode.use_inf_as_na', True):\n",
      "/opt/anaconda3/lib/python3.11/site-packages/seaborn/_oldcore.py:1119: FutureWarning: use_inf_as_na option is deprecated and will be removed in a future version. Convert inf values to NaN before operating instead.\n",
      "  with pd.option_context('mode.use_inf_as_na', True):\n"
     ]
    },
    {
     "data": {
      "text/plain": [
       "<seaborn.axisgrid.JointGrid at 0x173915450>"
      ]
     },
     "execution_count": 21,
     "metadata": {},
     "output_type": "execute_result"
    },
    {
     "data": {
      "image/png": "[encoded data removed]",
      "text/plain": [
       "<Figure size 600x600 with 3 Axes>"
      ]
     },
     "metadata": {},
     "output_type": "display_data"
    }
   ],
   "source": [
    "sns.jointplot(data = df2 , x='vote_average' , y='vote_count')"
   ]
  },
  {
   "cell_type": "markdown",
   "id": "c874c29b-3830-4f73-b263-2c69a5c5a78a",
   "metadata": {
    "jp-MarkdownHeadingCollapsed": true
   },
   "source": [
    "## Feature Engineering\n",
    "* We will create the base model with BOW from text columns where relevant info about movies is present.\n",
    "* Use info such as popularity, voting, release date for filtering or in model2"
   ]
  },
  {
   "cell_type": "markdown",
   "id": "6339b52f-5940-4d23-9ec1-80572bcd659f",
   "metadata": {},
   "source": [
    "Getting the relevent columns and converting them in usefull features"
   ]
  },
  {
   "cell_type": "code",
   "execution_count": 22,
   "id": "e2615517-52ee-4f57-8a82-a5196cd1ebb4",
   "metadata": {},
   "outputs": [
    {
     "data": {
      "text/plain": [
       "Index(['movie_id', 'title_x', 'cast', 'crew', 'budget', 'genres', 'homepage',\n",
       "       'id', 'keywords', 'original_language', 'original_title', 'overview',\n",
       "       'popularity', 'production_companies', 'production_countries',\n",
       "       'release_date', 'revenue', 'runtime', 'spoken_languages', 'status',\n",
       "       'tagline', 'title_y', 'vote_average', 'vote_count'],\n",
       "      dtype='object')"
      ]
     },
     "execution_count": 22,
     "metadata": {},
     "output_type": "execute_result"
    }
   ],
   "source": [
    "data.columns"
   ]
  },
  {
   "cell_type": "code",
   "execution_count": 23,
   "id": "2c922e4e-270e-4f82-a00d-0be03ddd63a6",
   "metadata": {},
   "outputs": [
    {
     "data": {
      "text/html": [
       "<div>\n",
       "<style scoped>\n",
       "    .dataframe tbody tr th:only-of-type {\n",
       "        vertical-align: middle;\n",
       "    }\n",
       "\n",
       "    .dataframe tbody tr th {\n",
       "        vertical-align: top;\n",
       "    }\n",
       "\n",
       "    .dataframe thead th {\n",
       "        text-align: right;\n",
       "    }\n",
       "</style>\n",
       "<table border=\"1\" class=\"dataframe\">\n",
       "  <thead>\n",
       "    <tr style=\"text-align: right;\">\n",
       "      <th></th>\n",
       "      <th>movie_id</th>\n",
       "      <th>title_x</th>\n",
       "      <th>cast</th>\n",
       "      <th>crew</th>\n",
       "      <th>genres</th>\n",
       "      <th>keywords</th>\n",
       "      <th>overview</th>\n",
       "      <th>production_companies</th>\n",
       "    </tr>\n",
       "  </thead>\n",
       "  <tbody>\n",
       "    <tr>\n",
       "      <th>248</th>\n",
       "      <td>787</td>\n",
       "      <td>Mr. &amp; Mrs. Smith</td>\n",
       "      <td>[{\"cast_id\": 19, \"character\": \"Jane Smith\", \"c...</td>\n",
       "      <td>[{\"credit_id\": \"52fe4276c3a36847f8020875\", \"de...</td>\n",
       "      <td>[{\"id\": 28, \"name\": \"Action\"}, {\"id\": 35, \"nam...</td>\n",
       "      <td>[{\"id\": 258, \"name\": \"bomb\"}, {\"id\": 782, \"nam...</td>\n",
       "      <td>After five (or six) years of vanilla-wedded bl...</td>\n",
       "      <td>[{\"name\": \"Weed Road Pictures\", \"id\": 433}, {\"...</td>\n",
       "    </tr>\n",
       "    <tr>\n",
       "      <th>1315</th>\n",
       "      <td>12508</td>\n",
       "      <td>Rock Star</td>\n",
       "      <td>[{\"cast_id\": 1, \"character\": \"Chris 'Izzy' Col...</td>\n",
       "      <td>[{\"credit_id\": \"52fe44f19251416c750463d7\", \"de...</td>\n",
       "      <td>[{\"id\": 10402, \"name\": \"Music\"}, {\"id\": 18, \"n...</td>\n",
       "      <td>[{\"id\": 2570, \"name\": \"rock star\"}, {\"id\": 383...</td>\n",
       "      <td>Rock Star tells the story of Chris Cole and a ...</td>\n",
       "      <td>[{\"name\": \"Bel Air Entertainment\", \"id\": 788},...</td>\n",
       "    </tr>\n",
       "    <tr>\n",
       "      <th>4188</th>\n",
       "      <td>98557</td>\n",
       "      <td>Dysfunctional Friends</td>\n",
       "      <td>[{\"cast_id\": 1023, \"character\": \"Lisa\", \"credi...</td>\n",
       "      <td>[{\"credit_id\": \"52fe4a189251416c750dd7ef\", \"de...</td>\n",
       "      <td>[{\"id\": 35, \"name\": \"Comedy\"}, {\"id\": 10749, \"...</td>\n",
       "      <td>[]</td>\n",
       "      <td>A group of college friends are reunited after ...</td>\n",
       "      <td>[]</td>\n",
       "    </tr>\n",
       "  </tbody>\n",
       "</table>\n",
       "</div>"
      ],
      "text/plain": [
       "      movie_id                title_x  \\\n",
       "248        787       Mr. & Mrs. Smith   \n",
       "1315     12508              Rock Star   \n",
       "4188     98557  Dysfunctional Friends   \n",
       "\n",
       "                                                   cast  \\\n",
       "248   [{\"cast_id\": 19, \"character\": \"Jane Smith\", \"c...   \n",
       "1315  [{\"cast_id\": 1, \"character\": \"Chris 'Izzy' Col...   \n",
       "4188  [{\"cast_id\": 1023, \"character\": \"Lisa\", \"credi...   \n",
       "\n",
       "                                                   crew  \\\n",
       "248   [{\"credit_id\": \"52fe4276c3a36847f8020875\", \"de...   \n",
       "1315  [{\"credit_id\": \"52fe44f19251416c750463d7\", \"de...   \n",
       "4188  [{\"credit_id\": \"52fe4a189251416c750dd7ef\", \"de...   \n",
       "\n",
       "                                                 genres  \\\n",
       "248   [{\"id\": 28, \"name\": \"Action\"}, {\"id\": 35, \"nam...   \n",
       "1315  [{\"id\": 10402, \"name\": \"Music\"}, {\"id\": 18, \"n...   \n",
       "4188  [{\"id\": 35, \"name\": \"Comedy\"}, {\"id\": 10749, \"...   \n",
       "\n",
       "                                               keywords  \\\n",
       "248   [{\"id\": 258, \"name\": \"bomb\"}, {\"id\": 782, \"nam...   \n",
       "1315  [{\"id\": 2570, \"name\": \"rock star\"}, {\"id\": 383...   \n",
       "4188                                                 []   \n",
       "\n",
       "                                               overview  \\\n",
       "248   After five (or six) years of vanilla-wedded bl...   \n",
       "1315  Rock Star tells the story of Chris Cole and a ...   \n",
       "4188  A group of college friends are reunited after ...   \n",
       "\n",
       "                                   production_companies  \n",
       "248   [{\"name\": \"Weed Road Pictures\", \"id\": 433}, {\"...  \n",
       "1315  [{\"name\": \"Bel Air Entertainment\", \"id\": 788},...  \n",
       "4188                                                 []  "
      ]
     },
     "execution_count": 23,
     "metadata": {},
     "output_type": "execute_result"
    }
   ],
   "source": [
    "df = data[['movie_id', 'title_x', 'cast', 'crew', 'genres','keywords','overview','production_companies',]].copy()\n",
    "df.sample(3)"
   ]
  },
  {
   "cell_type": "code",
   "execution_count": 24,
   "id": "67180438-0012-4e69-aa2c-646ab0085970",
   "metadata": {},
   "outputs": [
    {
     "data": {
      "text/plain": [
       "0"
      ]
     },
     "execution_count": 24,
     "metadata": {},
     "output_type": "execute_result"
    }
   ],
   "source": [
    "df.duplicated().sum()"
   ]
  },
  {
   "cell_type": "code",
   "execution_count": 25,
   "id": "e610bbf8-7009-4f15-83f9-4ba43d6c6907",
   "metadata": {},
   "outputs": [
    {
     "data": {
      "text/plain": [
       "movie_id                0\n",
       "title_x                 0\n",
       "cast                    0\n",
       "crew                    0\n",
       "genres                  0\n",
       "keywords                0\n",
       "overview                3\n",
       "production_companies    0\n",
       "dtype: int64"
      ]
     },
     "execution_count": 25,
     "metadata": {},
     "output_type": "execute_result"
    }
   ],
   "source": [
    "df.isna().sum()"
   ]
  },
  {
   "cell_type": "code",
   "execution_count": 26,
   "id": "64806283-27cb-4fe5-954d-8252a560984b",
   "metadata": {},
   "outputs": [],
   "source": [
    "df.dropna(inplace = True)"
   ]
  },
  {
   "cell_type": "markdown",
   "id": "b2dbda9d-d4ce-4824-b003-9424a991f8ca",
   "metadata": {},
   "source": [
    "* getting top 5 casts for each movies"
   ]
  },
  {
   "cell_type": "code",
   "execution_count": 27,
   "id": "035644fb-d63b-4a62-84d8-ab0ddc2e7b90",
   "metadata": {},
   "outputs": [
    {
     "data": {
      "text/plain": [
       "[{'cast_id': 242,\n",
       "  'character': 'Jake Sully',\n",
       "  'credit_id': '5602a8a7c3a3685532001c9a',\n",
       "  'gender': 2,\n",
       "  'id': 65731,\n",
       "  'name': 'Sam Worthington',\n",
       "  'order': 0},\n",
       " {'cast_id': 3,\n",
       "  'character': 'Neytiri',\n",
       "  'credit_id': '52fe48009251416c750ac9cb',\n",
       "  'gender': 1,\n",
       "  'id': 8691,\n",
       "  'name': 'Zoe Saldana',\n",
       "  'order': 1},\n",
       " {'cast_id': 25,\n",
       "  'character': 'Dr. Grace Augustine',\n",
       "  'credit_id': '52fe48009251416c750aca39',\n",
       "  'gender': 1,\n",
       "  'id': 10205,\n",
       "  'name': 'Sigourney Weaver',\n",
       "  'order': 2},\n",
       " {'cast_id': 4,\n",
       "  'character': 'Col. Quaritch',\n",
       "  'credit_id': '52fe48009251416c750ac9cf',\n",
       "  'gender': 2,\n",
       "  'id': 32747,\n",
       "  'name': 'Stephen Lang',\n",
       "  'order': 3},\n",
       " {'cast_id': 5,\n",
       "  'character': 'Trudy Chacon',\n",
       "  'credit_id': '52fe48009251416c750ac9d3',\n",
       "  'gender': 1,\n",
       "  'id': 17647,\n",
       "  'name': 'Michelle Rodriguez',\n",
       "  'order': 4},\n",
       " {'cast_id': 8,\n",
       "  'character': 'Selfridge',\n",
       "  'credit_id': '52fe48009251416c750ac9e1',\n",
       "  'gender': 2,\n",
       "  'id': 1771,\n",
       "  'name': 'Giovanni Ribisi',\n",
       "  'order': 5},\n",
       " {'cast_id': 7,\n",
       "  'character': 'Norm Spellman',\n",
       "  'credit_id': '52fe48009251416c750ac9dd',\n",
       "  'gender': 2,\n",
       "  'id': 59231,\n",
       "  'name': 'Joel David Moore',\n",
       "  'order': 6},\n",
       " {'cast_id': 9,\n",
       "  'character': 'Moat',\n",
       "  'credit_id': '52fe48009251416c750ac9e5',\n",
       "  'gender': 1,\n",
       "  'id': 30485,\n",
       "  'name': 'CCH Pounder',\n",
       "  'order': 7},\n",
       " {'cast_id': 11,\n",
       "  'character': 'Eytukan',\n",
       "  'credit_id': '52fe48009251416c750ac9ed',\n",
       "  'gender': 2,\n",
       "  'id': 15853,\n",
       "  'name': 'Wes Studi',\n",
       "  'order': 8},\n",
       " {'cast_id': 10,\n",
       "  'character': \"Tsu'Tey\",\n",
       "  'credit_id': '52fe48009251416c750ac9e9',\n",
       "  'gender': 2,\n",
       "  'id': 10964,\n",
       "  'name': 'Laz Alonso',\n",
       "  'order': 9},\n",
       " {'cast_id': 12,\n",
       "  'character': 'Dr. Max Patel',\n",
       "  'credit_id': '52fe48009251416c750ac9f1',\n",
       "  'gender': 2,\n",
       "  'id': 95697,\n",
       "  'name': 'Dileep Rao',\n",
       "  'order': 10},\n",
       " {'cast_id': 13,\n",
       "  'character': 'Lyle Wainfleet',\n",
       "  'credit_id': '52fe48009251416c750ac9f5',\n",
       "  'gender': 2,\n",
       "  'id': 98215,\n",
       "  'name': 'Matt Gerald',\n",
       "  'order': 11},\n",
       " {'cast_id': 32,\n",
       "  'character': 'Private Fike',\n",
       "  'credit_id': '52fe48009251416c750aca5b',\n",
       "  'gender': 2,\n",
       "  'id': 154153,\n",
       "  'name': 'Sean Anthony Moran',\n",
       "  'order': 12},\n",
       " {'cast_id': 33,\n",
       "  'character': 'Cryo Vault Med Tech',\n",
       "  'credit_id': '52fe48009251416c750aca5f',\n",
       "  'gender': 2,\n",
       "  'id': 397312,\n",
       "  'name': 'Jason Whyte',\n",
       "  'order': 13},\n",
       " {'cast_id': 34,\n",
       "  'character': 'Venture Star Crew Chief',\n",
       "  'credit_id': '52fe48009251416c750aca63',\n",
       "  'gender': 2,\n",
       "  'id': 42317,\n",
       "  'name': 'Scott Lawrence',\n",
       "  'order': 14},\n",
       " {'cast_id': 35,\n",
       "  'character': 'Lock Up Trooper',\n",
       "  'credit_id': '52fe48009251416c750aca67',\n",
       "  'gender': 2,\n",
       "  'id': 986734,\n",
       "  'name': 'Kelly Kilgour',\n",
       "  'order': 15},\n",
       " {'cast_id': 36,\n",
       "  'character': 'Shuttle Pilot',\n",
       "  'credit_id': '52fe48009251416c750aca6b',\n",
       "  'gender': 0,\n",
       "  'id': 1207227,\n",
       "  'name': 'James Patrick Pitt',\n",
       "  'order': 16},\n",
       " {'cast_id': 37,\n",
       "  'character': 'Shuttle Co-Pilot',\n",
       "  'credit_id': '52fe48009251416c750aca6f',\n",
       "  'gender': 0,\n",
       "  'id': 1180936,\n",
       "  'name': 'Sean Patrick Murphy',\n",
       "  'order': 17},\n",
       " {'cast_id': 38,\n",
       "  'character': 'Shuttle Crew Chief',\n",
       "  'credit_id': '52fe48009251416c750aca73',\n",
       "  'gender': 2,\n",
       "  'id': 1019578,\n",
       "  'name': 'Peter Dillon',\n",
       "  'order': 18},\n",
       " {'cast_id': 39,\n",
       "  'character': 'Tractor Operator / Troupe',\n",
       "  'credit_id': '52fe48009251416c750aca77',\n",
       "  'gender': 0,\n",
       "  'id': 91443,\n",
       "  'name': 'Kevin Dorman',\n",
       "  'order': 19},\n",
       " {'cast_id': 40,\n",
       "  'character': 'Dragon Gunship Pilot',\n",
       "  'credit_id': '52fe48009251416c750aca7b',\n",
       "  'gender': 2,\n",
       "  'id': 173391,\n",
       "  'name': 'Kelson Henderson',\n",
       "  'order': 20},\n",
       " {'cast_id': 41,\n",
       "  'character': 'Dragon Gunship Gunner',\n",
       "  'credit_id': '52fe48009251416c750aca7f',\n",
       "  'gender': 0,\n",
       "  'id': 1207236,\n",
       "  'name': 'David Van Horn',\n",
       "  'order': 21},\n",
       " {'cast_id': 42,\n",
       "  'character': 'Dragon Gunship Navigator',\n",
       "  'credit_id': '52fe48009251416c750aca83',\n",
       "  'gender': 0,\n",
       "  'id': 215913,\n",
       "  'name': 'Jacob Tomuri',\n",
       "  'order': 22},\n",
       " {'cast_id': 43,\n",
       "  'character': 'Suit #1',\n",
       "  'credit_id': '52fe48009251416c750aca87',\n",
       "  'gender': 0,\n",
       "  'id': 143206,\n",
       "  'name': 'Michael Blain-Rozgay',\n",
       "  'order': 23},\n",
       " {'cast_id': 44,\n",
       "  'character': 'Suit #2',\n",
       "  'credit_id': '52fe48009251416c750aca8b',\n",
       "  'gender': 2,\n",
       "  'id': 169676,\n",
       "  'name': 'Jon Curry',\n",
       "  'order': 24},\n",
       " {'cast_id': 46,\n",
       "  'character': 'Ambient Room Tech',\n",
       "  'credit_id': '52fe48009251416c750aca8f',\n",
       "  'gender': 0,\n",
       "  'id': 1048610,\n",
       "  'name': 'Luke Hawker',\n",
       "  'order': 25},\n",
       " {'cast_id': 47,\n",
       "  'character': 'Ambient Room Tech / Troupe',\n",
       "  'credit_id': '52fe48009251416c750aca93',\n",
       "  'gender': 0,\n",
       "  'id': 42288,\n",
       "  'name': 'Woody Schultz',\n",
       "  'order': 26},\n",
       " {'cast_id': 48,\n",
       "  'character': 'Horse Clan Leader',\n",
       "  'credit_id': '52fe48009251416c750aca97',\n",
       "  'gender': 2,\n",
       "  'id': 68278,\n",
       "  'name': 'Peter Mensah',\n",
       "  'order': 27},\n",
       " {'cast_id': 49,\n",
       "  'character': 'Link Room Tech',\n",
       "  'credit_id': '52fe48009251416c750aca9b',\n",
       "  'gender': 0,\n",
       "  'id': 1207247,\n",
       "  'name': 'Sonia Yee',\n",
       "  'order': 28},\n",
       " {'cast_id': 50,\n",
       "  'character': 'Basketball Avatar / Troupe',\n",
       "  'credit_id': '52fe48009251416c750aca9f',\n",
       "  'gender': 1,\n",
       "  'id': 1207248,\n",
       "  'name': 'Jahnel Curfman',\n",
       "  'order': 29},\n",
       " {'cast_id': 51,\n",
       "  'character': 'Basketball Avatar',\n",
       "  'credit_id': '52fe48009251416c750acaa3',\n",
       "  'gender': 0,\n",
       "  'id': 89714,\n",
       "  'name': 'Ilram Choi',\n",
       "  'order': 30},\n",
       " {'cast_id': 52,\n",
       "  'character': \"Na'vi Child\",\n",
       "  'credit_id': '52fe48009251416c750acaa7',\n",
       "  'gender': 0,\n",
       "  'id': 1207249,\n",
       "  'name': 'Kyla Warren',\n",
       "  'order': 31},\n",
       " {'cast_id': 53,\n",
       "  'character': 'Troupe',\n",
       "  'credit_id': '52fe48009251416c750acaab',\n",
       "  'gender': 0,\n",
       "  'id': 1207250,\n",
       "  'name': 'Lisa Roumain',\n",
       "  'order': 32},\n",
       " {'cast_id': 54,\n",
       "  'character': 'Troupe',\n",
       "  'credit_id': '52fe48009251416c750acaaf',\n",
       "  'gender': 1,\n",
       "  'id': 83105,\n",
       "  'name': 'Debra Wilson',\n",
       "  'order': 33},\n",
       " {'cast_id': 57,\n",
       "  'character': 'Troupe',\n",
       "  'credit_id': '52fe48009251416c750acabb',\n",
       "  'gender': 0,\n",
       "  'id': 1207253,\n",
       "  'name': 'Chris Mala',\n",
       "  'order': 34},\n",
       " {'cast_id': 55,\n",
       "  'character': 'Troupe',\n",
       "  'credit_id': '52fe48009251416c750acab3',\n",
       "  'gender': 0,\n",
       "  'id': 1207251,\n",
       "  'name': 'Taylor Kibby',\n",
       "  'order': 35},\n",
       " {'cast_id': 56,\n",
       "  'character': 'Troupe',\n",
       "  'credit_id': '52fe48009251416c750acab7',\n",
       "  'gender': 0,\n",
       "  'id': 1207252,\n",
       "  'name': 'Jodie Landau',\n",
       "  'order': 36},\n",
       " {'cast_id': 58,\n",
       "  'character': 'Troupe',\n",
       "  'credit_id': '52fe48009251416c750acabf',\n",
       "  'gender': 0,\n",
       "  'id': 1207254,\n",
       "  'name': 'Julie Lamm',\n",
       "  'order': 37},\n",
       " {'cast_id': 59,\n",
       "  'character': 'Troupe',\n",
       "  'credit_id': '52fe48009251416c750acac3',\n",
       "  'gender': 0,\n",
       "  'id': 1207257,\n",
       "  'name': 'Cullen B. Madden',\n",
       "  'order': 38},\n",
       " {'cast_id': 60,\n",
       "  'character': 'Troupe',\n",
       "  'credit_id': '52fe48009251416c750acac7',\n",
       "  'gender': 0,\n",
       "  'id': 1207259,\n",
       "  'name': 'Joseph Brady Madden',\n",
       "  'order': 39},\n",
       " {'cast_id': 61,\n",
       "  'character': 'Troupe',\n",
       "  'credit_id': '52fe48009251416c750acacb',\n",
       "  'gender': 0,\n",
       "  'id': 1207262,\n",
       "  'name': 'Frankie Torres',\n",
       "  'order': 40},\n",
       " {'cast_id': 62,\n",
       "  'character': 'Troupe',\n",
       "  'credit_id': '52fe48009251416c750acacf',\n",
       "  'gender': 1,\n",
       "  'id': 1158600,\n",
       "  'name': 'Austin Wilson',\n",
       "  'order': 41},\n",
       " {'cast_id': 63,\n",
       "  'character': 'Troupe',\n",
       "  'credit_id': '52fe48019251416c750acad3',\n",
       "  'gender': 1,\n",
       "  'id': 983705,\n",
       "  'name': 'Sara Wilson',\n",
       "  'order': 42},\n",
       " {'cast_id': 64,\n",
       "  'character': 'Troupe',\n",
       "  'credit_id': '52fe48019251416c750acad7',\n",
       "  'gender': 0,\n",
       "  'id': 1207263,\n",
       "  'name': 'Tamica Washington-Miller',\n",
       "  'order': 43},\n",
       " {'cast_id': 65,\n",
       "  'character': 'Op Center Staff',\n",
       "  'credit_id': '52fe48019251416c750acadb',\n",
       "  'gender': 1,\n",
       "  'id': 1145098,\n",
       "  'name': 'Lucy Briant',\n",
       "  'order': 44},\n",
       " {'cast_id': 66,\n",
       "  'character': 'Op Center Staff',\n",
       "  'credit_id': '52fe48019251416c750acadf',\n",
       "  'gender': 2,\n",
       "  'id': 33305,\n",
       "  'name': 'Nathan Meister',\n",
       "  'order': 45},\n",
       " {'cast_id': 67,\n",
       "  'character': 'Op Center Staff',\n",
       "  'credit_id': '52fe48019251416c750acae3',\n",
       "  'gender': 0,\n",
       "  'id': 1207264,\n",
       "  'name': 'Gerry Blair',\n",
       "  'order': 46},\n",
       " {'cast_id': 68,\n",
       "  'character': 'Op Center Staff',\n",
       "  'credit_id': '52fe48019251416c750acae7',\n",
       "  'gender': 2,\n",
       "  'id': 33311,\n",
       "  'name': 'Matthew Chamberlain',\n",
       "  'order': 47},\n",
       " {'cast_id': 69,\n",
       "  'character': 'Op Center Staff',\n",
       "  'credit_id': '52fe48019251416c750acaeb',\n",
       "  'gender': 0,\n",
       "  'id': 1207265,\n",
       "  'name': 'Paul Yates',\n",
       "  'order': 48},\n",
       " {'cast_id': 70,\n",
       "  'character': 'Op Center Duty Officer',\n",
       "  'credit_id': '52fe48019251416c750acaef',\n",
       "  'gender': 0,\n",
       "  'id': 1207266,\n",
       "  'name': 'Wray Wilson',\n",
       "  'order': 49},\n",
       " {'cast_id': 71,\n",
       "  'character': 'Op Center Staff',\n",
       "  'credit_id': '52fe48019251416c750acaf3',\n",
       "  'gender': 2,\n",
       "  'id': 54492,\n",
       "  'name': 'James Gaylyn',\n",
       "  'order': 50},\n",
       " {'cast_id': 72,\n",
       "  'character': 'Dancer',\n",
       "  'credit_id': '52fe48019251416c750acaf7',\n",
       "  'gender': 0,\n",
       "  'id': 1207267,\n",
       "  'name': 'Melvin Leno Clark III',\n",
       "  'order': 51},\n",
       " {'cast_id': 73,\n",
       "  'character': 'Dancer',\n",
       "  'credit_id': '52fe48019251416c750acafb',\n",
       "  'gender': 0,\n",
       "  'id': 1207268,\n",
       "  'name': 'Carvon Futrell',\n",
       "  'order': 52},\n",
       " {'cast_id': 74,\n",
       "  'character': 'Dancer',\n",
       "  'credit_id': '52fe48019251416c750acaff',\n",
       "  'gender': 0,\n",
       "  'id': 1207269,\n",
       "  'name': 'Brandon Jelkes',\n",
       "  'order': 53},\n",
       " {'cast_id': 75,\n",
       "  'character': 'Dancer',\n",
       "  'credit_id': '52fe48019251416c750acb03',\n",
       "  'gender': 0,\n",
       "  'id': 1207270,\n",
       "  'name': 'Micah Moch',\n",
       "  'order': 54},\n",
       " {'cast_id': 76,\n",
       "  'character': 'Dancer',\n",
       "  'credit_id': '52fe48019251416c750acb07',\n",
       "  'gender': 0,\n",
       "  'id': 1207271,\n",
       "  'name': 'Hanniyah Muhammad',\n",
       "  'order': 55},\n",
       " {'cast_id': 77,\n",
       "  'character': 'Dancer',\n",
       "  'credit_id': '52fe48019251416c750acb0b',\n",
       "  'gender': 0,\n",
       "  'id': 1207272,\n",
       "  'name': 'Christopher Nolen',\n",
       "  'order': 56},\n",
       " {'cast_id': 78,\n",
       "  'character': 'Dancer',\n",
       "  'credit_id': '52fe48019251416c750acb0f',\n",
       "  'gender': 0,\n",
       "  'id': 1207273,\n",
       "  'name': 'Christa Oliver',\n",
       "  'order': 57},\n",
       " {'cast_id': 79,\n",
       "  'character': 'Dancer',\n",
       "  'credit_id': '52fe48019251416c750acb13',\n",
       "  'gender': 0,\n",
       "  'id': 1207274,\n",
       "  'name': 'April Marie Thomas',\n",
       "  'order': 58},\n",
       " {'cast_id': 80,\n",
       "  'character': 'Dancer',\n",
       "  'credit_id': '52fe48019251416c750acb17',\n",
       "  'gender': 0,\n",
       "  'id': 1207275,\n",
       "  'name': 'Bravita A. Threatt',\n",
       "  'order': 59},\n",
       " {'cast_id': 81,\n",
       "  'character': 'Mining Chief (uncredited)',\n",
       "  'credit_id': '52fe48019251416c750acb1b',\n",
       "  'gender': 0,\n",
       "  'id': 1207276,\n",
       "  'name': 'Colin Bleasdale',\n",
       "  'order': 60},\n",
       " {'cast_id': 82,\n",
       "  'character': 'Veteran Miner (uncredited)',\n",
       "  'credit_id': '52fe48019251416c750acb1f',\n",
       "  'gender': 0,\n",
       "  'id': 107969,\n",
       "  'name': 'Mike Bodnar',\n",
       "  'order': 61},\n",
       " {'cast_id': 83,\n",
       "  'character': 'Richard (uncredited)',\n",
       "  'credit_id': '52fe48019251416c750acb23',\n",
       "  'gender': 0,\n",
       "  'id': 1207278,\n",
       "  'name': 'Matt Clayton',\n",
       "  'order': 62},\n",
       " {'cast_id': 84,\n",
       "  'character': \"Nav'i (uncredited)\",\n",
       "  'credit_id': '52fe48019251416c750acb27',\n",
       "  'gender': 1,\n",
       "  'id': 147898,\n",
       "  'name': 'Nicole Dionne',\n",
       "  'order': 63},\n",
       " {'cast_id': 85,\n",
       "  'character': 'Trooper (uncredited)',\n",
       "  'credit_id': '52fe48019251416c750acb2b',\n",
       "  'gender': 0,\n",
       "  'id': 1207280,\n",
       "  'name': 'Jamie Harrison',\n",
       "  'order': 64},\n",
       " {'cast_id': 86,\n",
       "  'character': 'Trooper (uncredited)',\n",
       "  'credit_id': '52fe48019251416c750acb2f',\n",
       "  'gender': 0,\n",
       "  'id': 1207281,\n",
       "  'name': 'Allan Henry',\n",
       "  'order': 65},\n",
       " {'cast_id': 87,\n",
       "  'character': 'Ground Technician (uncredited)',\n",
       "  'credit_id': '52fe48019251416c750acb33',\n",
       "  'gender': 2,\n",
       "  'id': 1207282,\n",
       "  'name': 'Anthony Ingruber',\n",
       "  'order': 66},\n",
       " {'cast_id': 88,\n",
       "  'character': 'Flight Crew Mechanic (uncredited)',\n",
       "  'credit_id': '52fe48019251416c750acb37',\n",
       "  'gender': 0,\n",
       "  'id': 1207283,\n",
       "  'name': 'Ashley Jeffery',\n",
       "  'order': 67},\n",
       " {'cast_id': 14,\n",
       "  'character': 'Samson Pilot',\n",
       "  'credit_id': '52fe48009251416c750ac9f9',\n",
       "  'gender': 0,\n",
       "  'id': 98216,\n",
       "  'name': 'Dean Knowsley',\n",
       "  'order': 68},\n",
       " {'cast_id': 89,\n",
       "  'character': 'Trooper (uncredited)',\n",
       "  'credit_id': '52fe48019251416c750acb3b',\n",
       "  'gender': 0,\n",
       "  'id': 1201399,\n",
       "  'name': 'Joseph Mika-Hunt',\n",
       "  'order': 69},\n",
       " {'cast_id': 90,\n",
       "  'character': 'Banshee (uncredited)',\n",
       "  'credit_id': '52fe48019251416c750acb3f',\n",
       "  'gender': 0,\n",
       "  'id': 236696,\n",
       "  'name': 'Terry Notary',\n",
       "  'order': 70},\n",
       " {'cast_id': 91,\n",
       "  'character': 'Soldier (uncredited)',\n",
       "  'credit_id': '52fe48019251416c750acb43',\n",
       "  'gender': 0,\n",
       "  'id': 1207287,\n",
       "  'name': 'Kai Pantano',\n",
       "  'order': 71},\n",
       " {'cast_id': 92,\n",
       "  'character': 'Blast Technician (uncredited)',\n",
       "  'credit_id': '52fe48019251416c750acb47',\n",
       "  'gender': 0,\n",
       "  'id': 1207288,\n",
       "  'name': 'Logan Pithyou',\n",
       "  'order': 72},\n",
       " {'cast_id': 93,\n",
       "  'character': 'Vindum Raah (uncredited)',\n",
       "  'credit_id': '52fe48019251416c750acb4b',\n",
       "  'gender': 0,\n",
       "  'id': 1207289,\n",
       "  'name': 'Stuart Pollock',\n",
       "  'order': 73},\n",
       " {'cast_id': 94,\n",
       "  'character': 'Hero (uncredited)',\n",
       "  'credit_id': '52fe48019251416c750acb4f',\n",
       "  'gender': 0,\n",
       "  'id': 584868,\n",
       "  'name': 'Raja',\n",
       "  'order': 74},\n",
       " {'cast_id': 95,\n",
       "  'character': 'Ops Centreworker (uncredited)',\n",
       "  'credit_id': '52fe48019251416c750acb53',\n",
       "  'gender': 0,\n",
       "  'id': 1207290,\n",
       "  'name': 'Gareth Ruck',\n",
       "  'order': 75},\n",
       " {'cast_id': 96,\n",
       "  'character': 'Engineer (uncredited)',\n",
       "  'credit_id': '52fe48019251416c750acb57',\n",
       "  'gender': 0,\n",
       "  'id': 1062463,\n",
       "  'name': 'Rhian Sheehan',\n",
       "  'order': 76},\n",
       " {'cast_id': 97,\n",
       "  'character': \"Col. Quaritch's Mech Suit (uncredited)\",\n",
       "  'credit_id': '52fe48019251416c750acb5b',\n",
       "  'gender': 0,\n",
       "  'id': 60656,\n",
       "  'name': 'T. J. Storm',\n",
       "  'order': 77},\n",
       " {'cast_id': 98,\n",
       "  'character': 'Female Marine (uncredited)',\n",
       "  'credit_id': '52fe48019251416c750acb5f',\n",
       "  'gender': 0,\n",
       "  'id': 1207291,\n",
       "  'name': 'Jodie Taylor',\n",
       "  'order': 78},\n",
       " {'cast_id': 99,\n",
       "  'character': 'Ikran Clan Leader (uncredited)',\n",
       "  'credit_id': '52fe48019251416c750acb63',\n",
       "  'gender': 1,\n",
       "  'id': 1186027,\n",
       "  'name': 'Alicia Vela-Bailey',\n",
       "  'order': 79},\n",
       " {'cast_id': 100,\n",
       "  'character': 'Geologist (uncredited)',\n",
       "  'credit_id': '52fe48019251416c750acb67',\n",
       "  'gender': 0,\n",
       "  'id': 1207292,\n",
       "  'name': 'Richard Whiteside',\n",
       "  'order': 80},\n",
       " {'cast_id': 101,\n",
       "  'character': \"Na'vi (uncredited)\",\n",
       "  'credit_id': '52fe48019251416c750acb6b',\n",
       "  'gender': 0,\n",
       "  'id': 103259,\n",
       "  'name': 'Nikie Zambo',\n",
       "  'order': 81},\n",
       " {'cast_id': 102,\n",
       "  'character': 'Ambient Room Tech / Troupe',\n",
       "  'credit_id': '52fe48019251416c750acb6f',\n",
       "  'gender': 1,\n",
       "  'id': 42286,\n",
       "  'name': 'Julene Renee',\n",
       "  'order': 82}]"
      ]
     },
     "execution_count": 27,
     "metadata": {},
     "output_type": "execute_result"
    }
   ],
   "source": [
    "ast.literal_eval(df['cast'][0])#[0]['name']"
   ]
  },
  {
   "cell_type": "code",
   "execution_count": 28,
   "id": "3a74d649-727d-440d-9a8c-62e8df69e099",
   "metadata": {},
   "outputs": [],
   "source": [
    "def cast_extract(x):\n",
    "    l = []\n",
    "    for idx,i in enumerate(ast.literal_eval(x)):\n",
    "        if idx < 5:\n",
    "            l.append(i['name'].replace(' ',''))\n",
    "    return l\n",
    "# for idx,k,v in enumerate(ast.literal_eval(df['cast'][0]).items()):\n",
    "#     print(idx,k,v)\n"
   ]
  },
  {
   "cell_type": "code",
   "execution_count": 29,
   "id": "9ea30c93-c104-42ed-95b3-b67ab026e1ae",
   "metadata": {},
   "outputs": [],
   "source": [
    "df['cast'] = df['cast'].apply(cast_extract)"
   ]
  },
  {
   "cell_type": "markdown",
   "id": "206d1e47-0d1f-4ab2-9a02-31578ae835f5",
   "metadata": {},
   "source": [
    "* extracting key crew"
   ]
  },
  {
   "cell_type": "code",
   "execution_count": 30,
   "id": "59fae96d-3cd3-4760-b8fc-9ced5647a39c",
   "metadata": {},
   "outputs": [
    {
     "name": "stdout",
     "output_type": "stream",
     "text": [
      "Editor ----> Stephen E. Rivkin\n",
      "Production Design ----> Rick Carter\n",
      "Sound Designer ----> Christopher Boyes\n",
      "Supervising Sound Editor ----> Christopher Boyes\n",
      "Casting ----> Mali Finn\n",
      "Original Music Composer ----> James Horner\n",
      "Director ----> James Cameron\n",
      "Writer ----> James Cameron\n",
      "Editor ----> James Cameron\n",
      "Producer ----> James Cameron\n",
      "Screenplay ----> James Cameron\n",
      "Art Direction ----> Andrew Menzies\n",
      "Visual Effects Producer ----> Jill Brooks\n",
      "Casting ----> Margery Simkin\n",
      "Supervising Art Director ----> Kevin Ishioka\n",
      "Music Editor ----> Dick Bernstein\n",
      "Sound Effects Editor ----> Shannon Mills\n",
      "Foley ----> Dennie Thorpe\n",
      "Foley ----> Jana Vance\n",
      "Costume Design ----> Deborah Lynn Scott\n",
      "Producer ----> Jon Landau\n",
      "Art Direction ----> Sean Haworth\n",
      "Set Decoration ----> Kim Sinclair\n",
      "Supervising Art Director ----> Kim Sinclair\n",
      "Set Designer ----> Richard F. Mays\n",
      "Executive Producer ----> Laeta Kalogridis\n",
      "Costume Design ----> Mayes C. Rubeo\n",
      "Director of Photography ----> Mauro Fiore\n",
      "Set Designer ----> Scott Herbertson\n",
      "Stunts ----> Woody Schultz\n",
      "Makeup Artist ----> Linda DeVetta\n",
      "Hairstylist ----> Linda DeVetta\n",
      "Camera Operator ----> Richard Bluck\n",
      "Art Direction ----> Simon Bright\n",
      "Visual Effects Supervisor ----> Richard Martin\n",
      "Visual Effects Editor ----> Steve R. Moore\n",
      "Editor ----> John Refoua\n",
      "Set Designer ----> Karl J. Martin\n",
      "Director of Photography ----> Chiling Lin\n",
      "Stunts ----> Ilram Choi\n",
      "Visual Effects Supervisor ----> Steven Quale\n",
      "Dialect Coach ----> Carla Meyer\n",
      "Art Direction ----> Nick Bassett\n",
      "Art Direction ----> Jill Cormack\n",
      "Art Direction ----> Andy McLaren\n",
      "Motion Capture Artist ----> Terry Notary\n",
      "Stunt Coordinator ----> Garrett Warren\n",
      "Visual Effects Supervisor ----> Jonathan Rothbart\n",
      "Supervising Art Director ----> Stefan Dechant\n",
      "Supervising Art Director ----> Todd Cherniawsky\n",
      "Casting ----> Miranda Rivers\n",
      "Production Design ----> Robert Stromberg\n",
      "Costume Design ----> John Harding\n",
      "Steadicam Operator ----> Roberto De Angelis\n",
      "Makeup Department Head ----> Mike Smithson\n",
      "Visual Effects Producer ----> Alain Lalanne\n",
      "Visual Effects Supervisor ----> Lucas Salton\n",
      "Post Production Supervisor ----> Janace Tashjian\n",
      "Visual Effects Supervisor ----> Stephen Rosenbaum\n",
      "Makeup Artist ----> Frankie Karena\n",
      "Costume Supervisor ----> Lisa Lovaas\n",
      "Visual Effects Supervisor ----> Jonathan Fawkner\n",
      "Art Direction ----> Robert Bavin\n",
      "Costume Supervisor ----> Anthony Almaraz\n",
      "Costume Supervisor ----> Carolyn M. Fenton\n",
      "Costume Supervisor ----> Beth Koenigsberg\n",
      "Set Designer ----> Sam Page\n",
      "Set Designer ----> Tex Kadonaga\n",
      "Dialogue Editor ----> Kim Foscato\n",
      "Set Designer ----> Tammy S. Lee\n",
      "Transportation Coordinator ----> Denny Caira\n",
      "Transportation Coordinator ----> James Waitkus\n",
      "Supervising Sound Editor ----> Addison Teague\n",
      "Set Designer ----> C. Scott Baker\n",
      "Set Designer ----> Luke Caska\n",
      "Set Designer ----> David Chow\n",
      "Set Designer ----> Jonathan Dyer\n",
      "Set Designer ----> Joseph Hiura\n",
      "Art Department Coordinator ----> Rebecca Jellie\n",
      "Set Designer ----> Robert Andrew Johnson\n",
      "Assistant Art Director ----> Mike Stassi\n",
      "Construction Coordinator ----> John Villarino\n",
      "Assistant Art Director ----> Jeffrey Wisniewski\n",
      "Dialogue Editor ----> Cheryl Nardi\n",
      "Dialogue Editor ----> Marshall Winn\n",
      "Supervising Sound Editor ----> Gwendolyn Yates Whittle\n",
      "Sound Re-Recording Mixer ----> William Stein\n",
      "Choreographer ----> Lula Washington\n",
      "Visual Effects Producer ----> Chris Del Conte\n",
      "Visual Effects Supervisor ----> R. Christopher White\n",
      "Visual Effects Supervisor ----> Dan Lemmon\n",
      "Sound Effects Editor ----> Tim Nielsen\n",
      "CG Supervisor ----> Michael Mulholland\n",
      "Visual Effects Editor ----> Thomas Nittmann\n",
      "Visual Effects Supervisor ----> Edson Williams\n",
      "Digital Intermediate ----> Christine Carr\n",
      "Visual Effects Supervisor ----> John Bruno\n",
      "Steadicam Operator ----> David Emmerichs\n",
      "Sound Effects Editor ----> Christopher Scarabosio\n",
      "Production Supervisor ----> Jennifer Teves\n",
      "Production Manager ----> Brigitte Yorke\n",
      "Sound Effects Editor ----> Ken Fischer\n",
      "Special Effects Coordinator ----> Iain Hutton\n",
      "Special Effects Coordinator ----> Steve Ingram\n",
      "Visual Effects Producer ----> Joyce Cox\n",
      "Visual Effects Producer ----> Jenny Foster\n",
      "Visual Effects Editor ----> Christopher Marino\n",
      "Visual Effects Editor ----> Jim Milton\n",
      "Visual Effects Producer ----> Cyndi Ochs\n",
      "Visual Effects Editor ----> Lucas Putnam\n",
      "Visual Effects Supervisor ----> Anthony 'Max' Ivins\n",
      "Visual Effects Supervisor ----> John Knoll\n",
      "Visual Effects Supervisor ----> Eric Saindon\n",
      "Visual Effects Supervisor ----> Wayne Stables\n",
      "Visual Effects Supervisor ----> David Stinnett\n",
      "Visual Effects Supervisor ----> Guy Williams\n",
      "Stunt Coordinator ----> Stuart Thorp\n",
      "Best Boy Electric ----> Giles Coburn\n",
      "Still Photographer ----> Mark Fellman\n",
      "Lighting Technician ----> Scott Sprague\n",
      "Animation Director ----> Jeremy Hollobon\n",
      "Animation Director ----> Orlando Meunier\n",
      "Animation Director ----> Taisuke Tanimura\n",
      "Set Costumer ----> Lilia Mishel Acevedo\n",
      "Set Costumer ----> Alejandro M. Hernandez\n",
      "Digital Intermediate ----> Marvin Hall\n",
      "Publicist ----> Judy Alley\n",
      "CG Supervisor ----> Mike Perry\n",
      "CG Supervisor ----> Andrew Morley\n",
      "Conceptual Design ----> Seth Engstrom\n",
      "Visual Effects Art Director ----> Eric Oliver\n",
      "Modeling ----> Matsune Suzuki\n",
      "Art Department Manager ----> Paul Tobin\n",
      "Hairstylist ----> Roxane Griffin\n",
      "Lighting Artist ----> Arun Ram-Mohan\n",
      "Makeup Artist ----> Georgia Lockhart-Adams\n",
      "CG Supervisor ----> Thrain Shadbolt\n",
      "CG Supervisor ----> Brad Alexander\n",
      "CG Supervisor ----> Shadi Almassizadeh\n",
      "CG Supervisor ----> Simon Clutterbuck\n",
      "CG Supervisor ----> Graeme Demmocks\n",
      "CG Supervisor ----> Adrian Fernandes\n",
      "CG Supervisor ----> Mitch Gates\n",
      "CG Supervisor ----> Jerry Kung\n",
      "CG Supervisor ----> Andy Lomas\n",
      "CG Supervisor ----> Sebastian Marino\n",
      "CG Supervisor ----> Matthias Menz\n",
      "CG Supervisor ----> Sergei Nevshupov\n",
      "CG Supervisor ----> Philippe Rebours\n",
      "CG Supervisor ----> Michael Takarangi\n",
      "CG Supervisor ----> David Weitzberg\n",
      "CG Supervisor ----> Ben White\n",
      "Stunts ----> Min Windle\n"
     ]
    }
   ],
   "source": [
    "for i in ast.literal_eval(df['crew'][0]):\n",
    "    print(i['job'],'---->',i['name'])"
   ]
  },
  {
   "cell_type": "code",
   "execution_count": 33,
   "id": "cadd34db-758d-40b5-a237-8509c393aed3",
   "metadata": {},
   "outputs": [],
   "source": [
    "def extract_crew(x):\n",
    "    crew_names = []\n",
    "    for i in ast.literal_eval(x):\n",
    "        if i['job'] in ['Director', 'Writer', 'Producer']:\n",
    "            crew_names.append(i['name'].replace(' ', ''))\n",
    "    \n",
    "    crew_set = set(crew_names)\n",
    "    crew_list = list(crew_set)\n",
    "    return crew_list\n",
    "9"
   ]
  },
  {
   "cell_type": "code",
   "execution_count": 35,
   "id": "277c806a-4dea-40f1-8aff-87fdc209d032",
   "metadata": {},
   "outputs": [],
   "source": [
    "df['crew'] = df['crew'].apply(extract_crew)"
   ]
  },
  {
   "cell_type": "code",
   "execution_count": 58,
   "id": "6f8fcdc5-6671-46b4-8518-c9900d46d08c",
   "metadata": {},
   "outputs": [],
   "source": [
    "def extract_genres(x):\n",
    "    genre = []\n",
    "    for i in ast.literal_eval(x):\n",
    "        genre.append(i['name'].replace(' ', ''))\n",
    "    return genre"
   ]
  },
  {
   "cell_type": "code",
   "execution_count": null,
   "id": "3adefa06-43ab-4a5b-a3d0-dc6547ac5363",
   "metadata": {},
   "outputs": [],
   "source": [
    "df['genres'] = df['genres'].apply(extract_genres)"
   ]
  },
  {
   "cell_type": "code",
   "execution_count": 83,
   "id": "b1019110-b51c-497f-b1ae-e9d53d6837be",
   "metadata": {},
   "outputs": [],
   "source": [
    "df['genres'] = df['genres'].apply(lambda x : [i.replace(\" \",\"\") for i in x ])"
   ]
  },
  {
   "cell_type": "code",
   "execution_count": 63,
   "id": "40bfe423-2cd0-4cd3-b57b-425ca8e89b08",
   "metadata": {},
   "outputs": [],
   "source": [
    "df['keywords'] = df['keywords'].apply(extract_genres)"
   ]
  },
  {
   "cell_type": "code",
   "execution_count": 67,
   "id": "b4fec26b-87b9-4e39-827b-2918b302a193",
   "metadata": {},
   "outputs": [],
   "source": [
    "df['production_companies'] = df['production_companies'].apply(extract_genres)"
   ]
  },
  {
   "cell_type": "code",
   "execution_count": 80,
   "id": "173523e4-85f3-4345-8835-7665e870b001",
   "metadata": {},
   "outputs": [],
   "source": [
    "df['overview'] = df['overview'].apply(lambda x:x.split())"
   ]
  },
  {
   "cell_type": "code",
   "execution_count": 86,
   "id": "4532422a-609b-44dc-8f8d-ad3ef570c109",
   "metadata": {},
   "outputs": [
    {
     "data": {
      "text/html": [
       "<div>\n",
       "<style scoped>\n",
       "    .dataframe tbody tr th:only-of-type {\n",
       "        vertical-align: middle;\n",
       "    }\n",
       "\n",
       "    .dataframe tbody tr th {\n",
       "        vertical-align: top;\n",
       "    }\n",
       "\n",
       "    .dataframe thead th {\n",
       "        text-align: right;\n",
       "    }\n",
       "</style>\n",
       "<table border=\"1\" class=\"dataframe\">\n",
       "  <thead>\n",
       "    <tr style=\"text-align: right;\">\n",
       "      <th></th>\n",
       "      <th>movie_id</th>\n",
       "      <th>title_x</th>\n",
       "      <th>cast</th>\n",
       "      <th>crew</th>\n",
       "      <th>genres</th>\n",
       "      <th>keywords</th>\n",
       "      <th>overview</th>\n",
       "      <th>production_companies</th>\n",
       "    </tr>\n",
       "  </thead>\n",
       "  <tbody>\n",
       "    <tr>\n",
       "      <th>0</th>\n",
       "      <td>19995</td>\n",
       "      <td>Avatar</td>\n",
       "      <td>[SamWorthington, ZoeSaldana, SigourneyWeaver, ...</td>\n",
       "      <td>[JamesCameron, JonLandau]</td>\n",
       "      <td>[Action, Adventure, Fantasy, ScienceFiction]</td>\n",
       "      <td>[cultureclash, future, spacewar, spacecolony, ...</td>\n",
       "      <td>[In, the, 22nd, century,, a, paraplegic, Marin...</td>\n",
       "      <td>[IngeniousFilmPartners, TwentiethCenturyFoxFil...</td>\n",
       "    </tr>\n",
       "    <tr>\n",
       "      <th>1</th>\n",
       "      <td>285</td>\n",
       "      <td>Pirates of the Caribbean: At World's End</td>\n",
       "      <td>[JohnnyDepp, OrlandoBloom, KeiraKnightley, Ste...</td>\n",
       "      <td>[EricMcLeod, GoreVerbinski, PeterKohn, JerryBr...</td>\n",
       "      <td>[Adventure, Fantasy, Action]</td>\n",
       "      <td>[ocean, drugabuse, exoticisland, eastindiatrad...</td>\n",
       "      <td>[Captain, Barbossa,, long, believed, to, be, d...</td>\n",
       "      <td>[WaltDisneyPictures, JerryBruckheimerFilms, Se...</td>\n",
       "    </tr>\n",
       "    <tr>\n",
       "      <th>2</th>\n",
       "      <td>206647</td>\n",
       "      <td>Spectre</td>\n",
       "      <td>[DanielCraig, ChristophWaltz, LéaSeydoux, Ralp...</td>\n",
       "      <td>[MichaelG.Wilson, BarbaraBroccoli, SamMendes]</td>\n",
       "      <td>[Action, Adventure, Crime]</td>\n",
       "      <td>[spy, basedonnovel, secretagent, sequel, mi6, ...</td>\n",
       "      <td>[A, cryptic, message, from, Bond’s, past, send...</td>\n",
       "      <td>[ColumbiaPictures, Danjaq, B24]</td>\n",
       "    </tr>\n",
       "  </tbody>\n",
       "</table>\n",
       "</div>"
      ],
      "text/plain": [
       "   movie_id                                   title_x  \\\n",
       "0     19995                                    Avatar   \n",
       "1       285  Pirates of the Caribbean: At World's End   \n",
       "2    206647                                   Spectre   \n",
       "\n",
       "                                                cast  \\\n",
       "0  [SamWorthington, ZoeSaldana, SigourneyWeaver, ...   \n",
       "1  [JohnnyDepp, OrlandoBloom, KeiraKnightley, Ste...   \n",
       "2  [DanielCraig, ChristophWaltz, LéaSeydoux, Ralp...   \n",
       "\n",
       "                                                crew  \\\n",
       "0                          [JamesCameron, JonLandau]   \n",
       "1  [EricMcLeod, GoreVerbinski, PeterKohn, JerryBr...   \n",
       "2      [MichaelG.Wilson, BarbaraBroccoli, SamMendes]   \n",
       "\n",
       "                                         genres  \\\n",
       "0  [Action, Adventure, Fantasy, ScienceFiction]   \n",
       "1                  [Adventure, Fantasy, Action]   \n",
       "2                    [Action, Adventure, Crime]   \n",
       "\n",
       "                                            keywords  \\\n",
       "0  [cultureclash, future, spacewar, spacecolony, ...   \n",
       "1  [ocean, drugabuse, exoticisland, eastindiatrad...   \n",
       "2  [spy, basedonnovel, secretagent, sequel, mi6, ...   \n",
       "\n",
       "                                            overview  \\\n",
       "0  [In, the, 22nd, century,, a, paraplegic, Marin...   \n",
       "1  [Captain, Barbossa,, long, believed, to, be, d...   \n",
       "2  [A, cryptic, message, from, Bond’s, past, send...   \n",
       "\n",
       "                                production_companies  \n",
       "0  [IngeniousFilmPartners, TwentiethCenturyFoxFil...  \n",
       "1  [WaltDisneyPictures, JerryBruckheimerFilms, Se...  \n",
       "2                    [ColumbiaPictures, Danjaq, B24]  "
      ]
     },
     "execution_count": 86,
     "metadata": {},
     "output_type": "execute_result"
    }
   ],
   "source": [
    "df.head(3)"
   ]
  },
  {
   "cell_type": "code",
   "execution_count": 87,
   "id": "4abfbb25-23a3-4d36-9f77-16403e595976",
   "metadata": {},
   "outputs": [],
   "source": [
    "df['tag'] = df['cast'] + df['cast'] +df['genres'] +df['keywords'] +df['keywords'] + df['production_companies']"
   ]
  },
  {
   "cell_type": "code",
   "execution_count": 88,
   "id": "7493f5aa-e74a-4a3e-9be9-7f88d3d93c40",
   "metadata": {},
   "outputs": [
    {
     "data": {
      "text/plain": [
       "0    [SamWorthington, ZoeSaldana, SigourneyWeaver, ...\n",
       "1    [JohnnyDepp, OrlandoBloom, KeiraKnightley, Ste...\n",
       "2    [DanielCraig, ChristophWaltz, LéaSeydoux, Ralp...\n",
       "Name: tag, dtype: object"
      ]
     },
     "execution_count": 88,
     "metadata": {},
     "output_type": "execute_result"
    }
   ],
   "source": [
    "df.tag.head(3)"
   ]
  },
  {
   "cell_type": "markdown",
   "id": "421c476b-cb38-4edf-9e27-c4ed2303671e",
   "metadata": {
    "jp-MarkdownHeadingCollapsed": true
   },
   "source": [
    "## Final feature"
   ]
  },
  {
   "cell_type": "code",
   "execution_count": 89,
   "id": "ec8da334-b19b-42d9-b0ea-8173ac0309b0",
   "metadata": {},
   "outputs": [],
   "source": [
    "df1 = df[['movie_id', 'title_x','tag']]"
   ]
  },
  {
   "cell_type": "markdown",
   "id": "fc23734f-d6bb-4f85-8c7e-d3d2b2ed1bd3",
   "metadata": {},
   "source": [
    "Checking no of words in tag"
   ]
  },
  {
   "cell_type": "code",
   "execution_count": 94,
   "id": "d676d125-fd5e-4184-a511-f064bb9bc151",
   "metadata": {},
   "outputs": [
    {
     "name": "stderr",
     "output_type": "stream",
     "text": [
      "/opt/anaconda3/lib/python3.11/site-packages/seaborn/_oldcore.py:1119: FutureWarning: use_inf_as_na option is deprecated and will be removed in a future version. Convert inf values to NaN before operating instead.\n",
      "  with pd.option_context('mode.use_inf_as_na', True):\n"
     ]
    },
    {
     "data": {
      "text/plain": [
       "<Axes: xlabel='tag', ylabel='Count'>"
      ]
     },
     "execution_count": 94,
     "metadata": {},
     "output_type": "execute_result"
    },
    {
     "data": {
      "image/png": "[encoded data removed]",
      "text/plain": [
       "<Figure size 640x480 with 1 Axes>"
      ]
     },
     "metadata": {},
     "output_type": "display_data"
    }
   ],
   "source": [
    "sns.histplot(df1['tag'].apply(lambda x: len(x)))"
   ]
  },
  {
   "cell_type": "code",
   "execution_count": 99,
   "id": "22fafe3a-d861-495e-8163-17d564b664c5",
   "metadata": {},
   "outputs": [
    {
     "name": "stderr",
     "output_type": "stream",
     "text": [
      "/var/folders/d9/m0t639fj1kx9j60ddl0kyzlr0000gn/T/ipykernel_76744/3408170144.py:1: SettingWithCopyWarning: \n",
      "A value is trying to be set on a copy of a slice from a DataFrame.\n",
      "Try using .loc[row_indexer,col_indexer] = value instead\n",
      "\n",
      "See the caveats in the documentation: https://pandas.pydata.org/pandas-docs/stable/user_guide/indexing.html#returning-a-view-versus-a-copy\n",
      "  df1['tag'] = df1['tag'].apply(lambda x:\" \".join(x))\n"
     ]
    }
   ],
   "source": [
    "df1['tag'] = df1['tag'].apply(lambda x:\" \".join(x))"
   ]
  },
  {
   "cell_type": "code",
   "execution_count": 100,
   "id": "23aeb471-00c9-4707-be7a-0c7447808e3d",
   "metadata": {},
   "outputs": [
    {
     "data": {
      "text/plain": [
       "0       samworthington zoesaldana sigourneyweaver step...\n",
       "1       johnnydepp orlandobloom keiraknightley stellan...\n",
       "2       danielcraig christophwaltz léaseydoux ralphfie...\n",
       "3       christianbale michaelcaine garyoldman annehath...\n",
       "4       taylorkitsch lynncollins samanthamorton willem...\n",
       "                              ...                        \n",
       "4798    carlosgallardo jaimedehoyos petermarquardt rei...\n",
       "4799    edwardburns kerrybishé marshadietlein caitlinf...\n",
       "4800    ericmabius kristinbooth crystallowe geoffgusta...\n",
       "4801    danielhenney elizacoupe billpaxton alanruck zh...\n",
       "4802    drewbarrymore brianherzlinger coreyfeldman eri...\n",
       "Name: tag, Length: 4800, dtype: object"
      ]
     },
     "execution_count": 100,
     "metadata": {},
     "output_type": "execute_result"
    }
   ],
   "source": [
    "df1['tag'].apply(lambda x:x.lower())"
   ]
  },
  {
   "cell_type": "code",
   "execution_count": 146,
   "id": "0194bb12-76f6-4a92-a48e-64c93b4f8726",
   "metadata": {},
   "outputs": [
    {
     "data": {
      "text/plain": [
       "'SamWorthington ZoeSaldana SigourneyWeaver StephenLang MichelleRodriguez SamWorthington ZoeSaldana SigourneyWeaver StephenLang MichelleRodriguez Action Adventure Fantasy ScienceFiction cultureclash future spacewar spacecolony society spacetravel futuristic romance space alien tribe alienplanet cgi marine soldier battle loveaffair antiwar powerrelations mindandsoul 3d cultureclash future spacewar spacecolony society spacetravel futuristic romance space alien tribe alienplanet cgi marine soldier battle loveaffair antiwar powerrelations mindandsoul 3d IngeniousFilmPartners TwentiethCenturyFoxFilmCorporation DuneEntertainment LightstormEntertainment'"
      ]
     },
     "execution_count": 146,
     "metadata": {},
     "output_type": "execute_result"
    }
   ],
   "source": [
    "df1['tag'][0]"
   ]
  },
  {
   "cell_type": "markdown",
   "id": "2a891761-cebc-4d34-98c9-14a23662f1cc",
   "metadata": {
    "jp-MarkdownHeadingCollapsed": true
   },
   "source": [
    "## BOW vector creation and Similarity score"
   ]
  },
  {
   "cell_type": "code",
   "execution_count": 101,
   "id": "4e70bacc-b89f-4e3a-ada7-b74a95f1b94d",
   "metadata": {},
   "outputs": [],
   "source": [
    "from sklearn.feature_extraction.text import CountVectorizer\n",
    "cv = CountVectorizer(max_features=5000,stop_words='english')"
   ]
  },
  {
   "cell_type": "code",
   "execution_count": 105,
   "id": "e9692d46-bed5-41d3-a48e-96b0f9eab387",
   "metadata": {},
   "outputs": [],
   "source": [
    "vector = cv.fit_transform(df1['tag'])"
   ]
  },
  {
   "cell_type": "code",
   "execution_count": 107,
   "id": "e2dc0487-cf77-4370-8e6b-0c6723ceb579",
   "metadata": {},
   "outputs": [
    {
     "data": {
      "text/plain": [
       "(4800, 5000)"
      ]
     },
     "execution_count": 107,
     "metadata": {},
     "output_type": "execute_result"
    }
   ],
   "source": [
    "vector.shape"
   ]
  },
  {
   "cell_type": "code",
   "execution_count": 108,
   "id": "1346c6f4-1e0b-4749-b60b-2910424dadba",
   "metadata": {},
   "outputs": [
    {
     "data": {
      "text/plain": [
       "array([[1.        , 0.03133341, 0.03077652, ..., 0.03724195, 0.        ,\n",
       "        0.        ],\n",
       "       [0.03133341, 1.        , 0.03310877, ..., 0.        , 0.        ,\n",
       "        0.        ],\n",
       "       [0.03077652, 0.03310877, 1.        , ..., 0.        , 0.        ,\n",
       "        0.        ],\n",
       "       ...,\n",
       "       [0.03724195, 0.        , 0.        , ..., 1.        , 0.        ,\n",
       "        0.        ],\n",
       "       [0.        , 0.        , 0.        , ..., 0.        , 1.        ,\n",
       "        0.        ],\n",
       "       [0.        , 0.        , 0.        , ..., 0.        , 0.        ,\n",
       "        1.        ]])"
      ]
     },
     "execution_count": 108,
     "metadata": {},
     "output_type": "execute_result"
    }
   ],
   "source": [
    "from sklearn.metrics.pairwise import cosine_similarity\n",
    "similarity = cosine_similarity(vector)\n",
    "similarity"
   ]
  },
  {
   "cell_type": "code",
   "execution_count": 119,
   "id": "37a76fab-3775-4b3a-a94e-96e9f2b9e223",
   "metadata": {},
   "outputs": [
    {
     "data": {
      "text/plain": [
       "dtype('float64')"
      ]
     },
     "execution_count": 119,
     "metadata": {},
     "output_type": "execute_result"
    }
   ],
   "source": [
    "similarity.dtype"
   ]
  },
  {
   "cell_type": "markdown",
   "id": "1db4971e-a74a-4f65-b39b-b7752b440cc6",
   "metadata": {},
   "source": [
    "## Recommendation model"
   ]
  },
  {
   "cell_type": "code",
   "execution_count": 115,
   "id": "f02a2720-6fa5-4ffe-89f8-3cffb644297a",
   "metadata": {},
   "outputs": [],
   "source": [
    "def recommend(movie):\n",
    "    index = df1[df1['title_x'] == movie].index[0]\n",
    "    distances = sorted(list(enumerate(similarity[index])),reverse=True,key = lambda x: x[1])\n",
    "    for i in distances[1:11]:\n",
    "        print(df1.iloc[i[0]].title_x)\n",
    "        "
   ]
  },
  {
   "cell_type": "code",
   "execution_count": 156,
   "id": "e0c0e3ba-2128-4612-91c7-18883c2fdb18",
   "metadata": {},
   "outputs": [
    {
     "name": "stdout",
     "output_type": "stream",
     "text": [
      "The Rise of the Krays\n",
      "Mi America\n",
      "El Rey de Najayo\n",
      "Blow\n",
      "Ajami\n",
      "Adulterers\n",
      "Dutch Kills\n",
      "Deadfall\n",
      "Virtuosity\n",
      "The Taking of Pelham 1 2 3\n"
     ]
    }
   ],
   "source": [
    "recommend('American Gangster')"
   ]
  },
  {
   "cell_type": "markdown",
   "id": "a36eabe6-9c65-41ab-95c0-2a1781698d3e",
   "metadata": {},
   "source": []
  },
  {
   "cell_type": "code",
   "execution_count": 155,
   "id": "e1609789-190e-4e3e-8e40-ed04272bbda3",
   "metadata": {},
   "outputs": [
    {
     "data": {
      "text/plain": [
       "280                 Public Enemies\n",
       "281              American Gangster\n",
       "282                      True Lies\n",
       "283     The Taking of Pelham 1 2 3\n",
       "284                 Little Fockers\n",
       "285                 The Other Guys\n",
       "286                         Eraser\n",
       "287               Django Unchained\n",
       "288    The Hunchback of Notre Dame\n",
       "289       The Emperor's New Groove\n",
       "Name: title_x, dtype: object"
      ]
     },
     "execution_count": 155,
     "metadata": {},
     "output_type": "execute_result"
    }
   ],
   "source": [
    "df1['title_x'].head(290).tail(10)"
   ]
  },
  {
   "cell_type": "markdown",
   "id": "a9b56264-1b7e-432d-8412-66cbea696de4",
   "metadata": {},
   "source": [
    "## Exporting necessary files for deployment"
   ]
  },
  {
   "cell_type": "code",
   "execution_count": 157,
   "id": "e0dec3f8-4aed-45d4-bfcd-9a81c95f8674",
   "metadata": {},
   "outputs": [],
   "source": [
    "import pickle"
   ]
  },
  {
   "cell_type": "code",
   "execution_count": 158,
   "id": "5031d642-2d8b-4d2e-afd5-98e301af2bc9",
   "metadata": {},
   "outputs": [],
   "source": [
    "pickle.dump(df1,open('movie_list.pkl','wb'))\n",
    "pickle.dump(similarity,open(\"similarity.pkl\",'wb'))"
   ]
  },
  {
   "cell_type": "code",
   "execution_count": null,
   "id": "778d2755-c555-4306-a680-70b3506c2519",
   "metadata": {},
   "outputs": [],
   "source": []
  }
 ],
 "metadata": {
  "kernelspec": {
   "display_name": "Python 3 (ipykernel)",
   "language": "python",
   "name": "python3"
  },
  "language_info": {
   "codemirror_mode": {
    "name": "ipython",
    "version": 3
   },
   "file_extension": ".py",
   "mimetype": "text/x-python",
   "name": "python",
   "nbconvert_exporter": "python",
   "pygments_lexer": "ipython3",
   "version": "3.11.7"
  }
 },
 "nbformat": 4,
 "nbformat_minor": 5
}
